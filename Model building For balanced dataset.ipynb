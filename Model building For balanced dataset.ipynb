{
 "cells": [
  {
   "cell_type": "markdown",
   "metadata": {},
   "source": [
    "# Model building For balanced dataset"
   ]
  },
  {
   "cell_type": "markdown",
   "metadata": {},
   "source": [
    "## Prepared dataset"
   ]
  },
  {
   "cell_type": "code",
   "execution_count": 42,
   "metadata": {},
   "outputs": [],
   "source": [
    "import pandas as pd\n",
    "import numpy as np\n",
    "import sklearn\n",
    "import plotly.express as px\n",
    "import plotly.graph_objects as go\n",
    "from sklearn.model_selection import train_test_split\n",
    "from sklearn.preprocessing import QuantileTransformer\n",
    "from sklearn.ensemble import RandomForestClassifier\n",
    "\n",
    "import matplotlib.pyplot as plt\n",
    "from sklearn.metrics import accuracy_score, f1_score\n",
    "from sklearn.model_selection import GridSearchCV\n",
    "from sklearn.metrics import classification_report\n",
    "\n",
    "import pickle"
   ]
  },
  {
   "cell_type": "raw",
   "metadata": {},
   "source": [
    "Load dataset"
   ]
  },
  {
   "cell_type": "code",
   "execution_count": 2,
   "metadata": {},
   "outputs": [],
   "source": [
    "df_train_balanced=pd.read_csv('df_balanced.csv')\n",
    "df_test=pd.read_csv('df_clean_test.csv')"
   ]
  },
  {
   "cell_type": "code",
   "execution_count": 3,
   "metadata": {},
   "outputs": [],
   "source": [
    "#df_test.drop('Unnamed: 0', axis=1, inplace=True)"
   ]
  },
  {
   "cell_type": "code",
   "execution_count": 4,
   "metadata": {},
   "outputs": [
    {
     "data": {
      "text/html": [
       "<div>\n",
       "<style scoped>\n",
       "    .dataframe tbody tr th:only-of-type {\n",
       "        vertical-align: middle;\n",
       "    }\n",
       "\n",
       "    .dataframe tbody tr th {\n",
       "        vertical-align: top;\n",
       "    }\n",
       "\n",
       "    .dataframe thead th {\n",
       "        text-align: right;\n",
       "    }\n",
       "</style>\n",
       "<table border=\"1\" class=\"dataframe\">\n",
       "  <thead>\n",
       "    <tr style=\"text-align: right;\">\n",
       "      <th></th>\n",
       "      <th>SK_ID_CURR</th>\n",
       "      <th>CNT_CHILDREN</th>\n",
       "      <th>AMT_INCOME_TOTAL</th>\n",
       "      <th>AMT_CREDIT</th>\n",
       "      <th>AMT_ANNUITY</th>\n",
       "      <th>AMT_GOODS_PRICE</th>\n",
       "      <th>REGION_POPULATION_RELATIVE</th>\n",
       "      <th>DAYS_BIRTH</th>\n",
       "      <th>DAYS_EMPLOYED</th>\n",
       "      <th>DAYS_REGISTRATION</th>\n",
       "      <th>...</th>\n",
       "      <th>HOUSETYPE_MODE_terraced house</th>\n",
       "      <th>WALLSMATERIAL_MODE_Block</th>\n",
       "      <th>WALLSMATERIAL_MODE_Mixed</th>\n",
       "      <th>WALLSMATERIAL_MODE_Monolithic</th>\n",
       "      <th>WALLSMATERIAL_MODE_Others</th>\n",
       "      <th>WALLSMATERIAL_MODE_Panel</th>\n",
       "      <th>WALLSMATERIAL_MODE_Stone, brick</th>\n",
       "      <th>WALLSMATERIAL_MODE_Wooden</th>\n",
       "      <th>EMERGENCYSTATE_MODE_No</th>\n",
       "      <th>EMERGENCYSTATE_MODE_Yes</th>\n",
       "    </tr>\n",
       "  </thead>\n",
       "  <tbody>\n",
       "    <tr>\n",
       "      <th>0</th>\n",
       "      <td>-5.199338</td>\n",
       "      <td>1.579968</td>\n",
       "      <td>1.186981</td>\n",
       "      <td>1.811457</td>\n",
       "      <td>1.023003</td>\n",
       "      <td>1.873053</td>\n",
       "      <td>0.509202</td>\n",
       "      <td>0.209327</td>\n",
       "      <td>0.029800</td>\n",
       "      <td>0.584551</td>\n",
       "      <td>...</td>\n",
       "      <td>0</td>\n",
       "      <td>0</td>\n",
       "      <td>0</td>\n",
       "      <td>0</td>\n",
       "      <td>0</td>\n",
       "      <td>1</td>\n",
       "      <td>0</td>\n",
       "      <td>0</td>\n",
       "      <td>1</td>\n",
       "      <td>0</td>\n",
       "    </tr>\n",
       "    <tr>\n",
       "      <th>1</th>\n",
       "      <td>-3.952911</td>\n",
       "      <td>-5.199338</td>\n",
       "      <td>0.901416</td>\n",
       "      <td>1.080589</td>\n",
       "      <td>0.384455</td>\n",
       "      <td>0.951518</td>\n",
       "      <td>0.432104</td>\n",
       "      <td>-0.930962</td>\n",
       "      <td>-2.413129</td>\n",
       "      <td>-0.373473</td>\n",
       "      <td>...</td>\n",
       "      <td>0</td>\n",
       "      <td>1</td>\n",
       "      <td>0</td>\n",
       "      <td>0</td>\n",
       "      <td>0</td>\n",
       "      <td>0</td>\n",
       "      <td>0</td>\n",
       "      <td>0</td>\n",
       "      <td>1</td>\n",
       "      <td>0</td>\n",
       "    </tr>\n",
       "    <tr>\n",
       "      <th>2</th>\n",
       "      <td>-3.517482</td>\n",
       "      <td>-5.199338</td>\n",
       "      <td>0.015055</td>\n",
       "      <td>-0.556927</td>\n",
       "      <td>-0.517790</td>\n",
       "      <td>-0.842694</td>\n",
       "      <td>0.979511</td>\n",
       "      <td>0.320742</td>\n",
       "      <td>0.598915</td>\n",
       "      <td>-0.296683</td>\n",
       "      <td>...</td>\n",
       "      <td>0</td>\n",
       "      <td>0</td>\n",
       "      <td>0</td>\n",
       "      <td>0</td>\n",
       "      <td>0</td>\n",
       "      <td>0</td>\n",
       "      <td>1</td>\n",
       "      <td>0</td>\n",
       "      <td>1</td>\n",
       "      <td>0</td>\n",
       "    </tr>\n",
       "    <tr>\n",
       "      <th>3</th>\n",
       "      <td>-3.454423</td>\n",
       "      <td>0.746351</td>\n",
       "      <td>0.533636</td>\n",
       "      <td>-0.188033</td>\n",
       "      <td>-0.341493</td>\n",
       "      <td>-0.211070</td>\n",
       "      <td>0.432104</td>\n",
       "      <td>1.060909</td>\n",
       "      <td>0.020689</td>\n",
       "      <td>2.104112</td>\n",
       "      <td>...</td>\n",
       "      <td>0</td>\n",
       "      <td>0</td>\n",
       "      <td>0</td>\n",
       "      <td>0</td>\n",
       "      <td>0</td>\n",
       "      <td>1</td>\n",
       "      <td>0</td>\n",
       "      <td>0</td>\n",
       "      <td>1</td>\n",
       "      <td>0</td>\n",
       "    </tr>\n",
       "    <tr>\n",
       "      <th>4</th>\n",
       "      <td>-3.400432</td>\n",
       "      <td>-5.199338</td>\n",
       "      <td>-1.346386</td>\n",
       "      <td>-0.999986</td>\n",
       "      <td>-0.692715</td>\n",
       "      <td>-0.842694</td>\n",
       "      <td>-1.264066</td>\n",
       "      <td>1.223112</td>\n",
       "      <td>-0.333524</td>\n",
       "      <td>-0.131798</td>\n",
       "      <td>...</td>\n",
       "      <td>0</td>\n",
       "      <td>0</td>\n",
       "      <td>0</td>\n",
       "      <td>0</td>\n",
       "      <td>0</td>\n",
       "      <td>1</td>\n",
       "      <td>0</td>\n",
       "      <td>0</td>\n",
       "      <td>1</td>\n",
       "      <td>0</td>\n",
       "    </tr>\n",
       "    <tr>\n",
       "      <th>...</th>\n",
       "      <td>...</td>\n",
       "      <td>...</td>\n",
       "      <td>...</td>\n",
       "      <td>...</td>\n",
       "      <td>...</td>\n",
       "      <td>...</td>\n",
       "      <td>...</td>\n",
       "      <td>...</td>\n",
       "      <td>...</td>\n",
       "      <td>...</td>\n",
       "      <td>...</td>\n",
       "      <td>...</td>\n",
       "      <td>...</td>\n",
       "      <td>...</td>\n",
       "      <td>...</td>\n",
       "      <td>...</td>\n",
       "      <td>...</td>\n",
       "      <td>...</td>\n",
       "      <td>...</td>\n",
       "      <td>...</td>\n",
       "      <td>...</td>\n",
       "    </tr>\n",
       "    <tr>\n",
       "      <th>8398</th>\n",
       "      <td>3.229139</td>\n",
       "      <td>-5.199338</td>\n",
       "      <td>0.533636</td>\n",
       "      <td>-0.663276</td>\n",
       "      <td>0.288000</td>\n",
       "      <td>-0.842694</td>\n",
       "      <td>-1.264066</td>\n",
       "      <td>0.831209</td>\n",
       "      <td>-0.943986</td>\n",
       "      <td>-0.156744</td>\n",
       "      <td>...</td>\n",
       "      <td>0</td>\n",
       "      <td>0</td>\n",
       "      <td>0</td>\n",
       "      <td>0</td>\n",
       "      <td>0</td>\n",
       "      <td>1</td>\n",
       "      <td>0</td>\n",
       "      <td>0</td>\n",
       "      <td>1</td>\n",
       "      <td>0</td>\n",
       "    </tr>\n",
       "    <tr>\n",
       "      <th>8399</th>\n",
       "      <td>3.234652</td>\n",
       "      <td>-5.199338</td>\n",
       "      <td>-1.068522</td>\n",
       "      <td>-1.418119</td>\n",
       "      <td>-0.945616</td>\n",
       "      <td>-1.467860</td>\n",
       "      <td>-0.593940</td>\n",
       "      <td>0.744694</td>\n",
       "      <td>2.702784</td>\n",
       "      <td>0.737605</td>\n",
       "      <td>...</td>\n",
       "      <td>0</td>\n",
       "      <td>0</td>\n",
       "      <td>0</td>\n",
       "      <td>0</td>\n",
       "      <td>0</td>\n",
       "      <td>0</td>\n",
       "      <td>1</td>\n",
       "      <td>0</td>\n",
       "      <td>1</td>\n",
       "      <td>0</td>\n",
       "    </tr>\n",
       "    <tr>\n",
       "      <th>8400</th>\n",
       "      <td>3.339828</td>\n",
       "      <td>0.746351</td>\n",
       "      <td>-1.068522</td>\n",
       "      <td>0.605701</td>\n",
       "      <td>0.419115</td>\n",
       "      <td>0.444534</td>\n",
       "      <td>-0.729877</td>\n",
       "      <td>1.156164</td>\n",
       "      <td>-0.028916</td>\n",
       "      <td>0.344582</td>\n",
       "      <td>...</td>\n",
       "      <td>0</td>\n",
       "      <td>0</td>\n",
       "      <td>0</td>\n",
       "      <td>0</td>\n",
       "      <td>0</td>\n",
       "      <td>1</td>\n",
       "      <td>0</td>\n",
       "      <td>0</td>\n",
       "      <td>1</td>\n",
       "      <td>0</td>\n",
       "    </tr>\n",
       "    <tr>\n",
       "      <th>8401</th>\n",
       "      <td>4.110136</td>\n",
       "      <td>0.746351</td>\n",
       "      <td>-1.068522</td>\n",
       "      <td>0.135645</td>\n",
       "      <td>-0.844790</td>\n",
       "      <td>-0.139710</td>\n",
       "      <td>0.043924</td>\n",
       "      <td>-0.258665</td>\n",
       "      <td>-0.119468</td>\n",
       "      <td>-0.164297</td>\n",
       "      <td>...</td>\n",
       "      <td>0</td>\n",
       "      <td>0</td>\n",
       "      <td>0</td>\n",
       "      <td>0</td>\n",
       "      <td>0</td>\n",
       "      <td>0</td>\n",
       "      <td>1</td>\n",
       "      <td>0</td>\n",
       "      <td>1</td>\n",
       "      <td>0</td>\n",
       "    </tr>\n",
       "    <tr>\n",
       "      <th>8402</th>\n",
       "      <td>5.199338</td>\n",
       "      <td>0.746351</td>\n",
       "      <td>0.015055</td>\n",
       "      <td>-1.460531</td>\n",
       "      <td>-1.075207</td>\n",
       "      <td>-1.467860</td>\n",
       "      <td>-0.299230</td>\n",
       "      <td>-0.269742</td>\n",
       "      <td>-1.409668</td>\n",
       "      <td>0.671732</td>\n",
       "      <td>...</td>\n",
       "      <td>0</td>\n",
       "      <td>0</td>\n",
       "      <td>0</td>\n",
       "      <td>0</td>\n",
       "      <td>0</td>\n",
       "      <td>1</td>\n",
       "      <td>0</td>\n",
       "      <td>0</td>\n",
       "      <td>1</td>\n",
       "      <td>0</td>\n",
       "    </tr>\n",
       "  </tbody>\n",
       "</table>\n",
       "<p>8403 rows × 213 columns</p>\n",
       "</div>"
      ],
      "text/plain": [
       "      SK_ID_CURR  CNT_CHILDREN  AMT_INCOME_TOTAL  AMT_CREDIT  AMT_ANNUITY  \\\n",
       "0      -5.199338      1.579968          1.186981    1.811457     1.023003   \n",
       "1      -3.952911     -5.199338          0.901416    1.080589     0.384455   \n",
       "2      -3.517482     -5.199338          0.015055   -0.556927    -0.517790   \n",
       "3      -3.454423      0.746351          0.533636   -0.188033    -0.341493   \n",
       "4      -3.400432     -5.199338         -1.346386   -0.999986    -0.692715   \n",
       "...          ...           ...               ...         ...          ...   \n",
       "8398    3.229139     -5.199338          0.533636   -0.663276     0.288000   \n",
       "8399    3.234652     -5.199338         -1.068522   -1.418119    -0.945616   \n",
       "8400    3.339828      0.746351         -1.068522    0.605701     0.419115   \n",
       "8401    4.110136      0.746351         -1.068522    0.135645    -0.844790   \n",
       "8402    5.199338      0.746351          0.015055   -1.460531    -1.075207   \n",
       "\n",
       "      AMT_GOODS_PRICE  REGION_POPULATION_RELATIVE  DAYS_BIRTH  DAYS_EMPLOYED  \\\n",
       "0            1.873053                    0.509202    0.209327       0.029800   \n",
       "1            0.951518                    0.432104   -0.930962      -2.413129   \n",
       "2           -0.842694                    0.979511    0.320742       0.598915   \n",
       "3           -0.211070                    0.432104    1.060909       0.020689   \n",
       "4           -0.842694                   -1.264066    1.223112      -0.333524   \n",
       "...               ...                         ...         ...            ...   \n",
       "8398        -0.842694                   -1.264066    0.831209      -0.943986   \n",
       "8399        -1.467860                   -0.593940    0.744694       2.702784   \n",
       "8400         0.444534                   -0.729877    1.156164      -0.028916   \n",
       "8401        -0.139710                    0.043924   -0.258665      -0.119468   \n",
       "8402        -1.467860                   -0.299230   -0.269742      -1.409668   \n",
       "\n",
       "      DAYS_REGISTRATION  ...  HOUSETYPE_MODE_terraced house  \\\n",
       "0              0.584551  ...                              0   \n",
       "1             -0.373473  ...                              0   \n",
       "2             -0.296683  ...                              0   \n",
       "3              2.104112  ...                              0   \n",
       "4             -0.131798  ...                              0   \n",
       "...                 ...  ...                            ...   \n",
       "8398          -0.156744  ...                              0   \n",
       "8399           0.737605  ...                              0   \n",
       "8400           0.344582  ...                              0   \n",
       "8401          -0.164297  ...                              0   \n",
       "8402           0.671732  ...                              0   \n",
       "\n",
       "      WALLSMATERIAL_MODE_Block  WALLSMATERIAL_MODE_Mixed  \\\n",
       "0                            0                         0   \n",
       "1                            1                         0   \n",
       "2                            0                         0   \n",
       "3                            0                         0   \n",
       "4                            0                         0   \n",
       "...                        ...                       ...   \n",
       "8398                         0                         0   \n",
       "8399                         0                         0   \n",
       "8400                         0                         0   \n",
       "8401                         0                         0   \n",
       "8402                         0                         0   \n",
       "\n",
       "      WALLSMATERIAL_MODE_Monolithic  WALLSMATERIAL_MODE_Others  \\\n",
       "0                                 0                          0   \n",
       "1                                 0                          0   \n",
       "2                                 0                          0   \n",
       "3                                 0                          0   \n",
       "4                                 0                          0   \n",
       "...                             ...                        ...   \n",
       "8398                              0                          0   \n",
       "8399                              0                          0   \n",
       "8400                              0                          0   \n",
       "8401                              0                          0   \n",
       "8402                              0                          0   \n",
       "\n",
       "      WALLSMATERIAL_MODE_Panel  WALLSMATERIAL_MODE_Stone, brick  \\\n",
       "0                            1                                0   \n",
       "1                            0                                0   \n",
       "2                            0                                1   \n",
       "3                            1                                0   \n",
       "4                            1                                0   \n",
       "...                        ...                              ...   \n",
       "8398                         1                                0   \n",
       "8399                         0                                1   \n",
       "8400                         1                                0   \n",
       "8401                         0                                1   \n",
       "8402                         1                                0   \n",
       "\n",
       "      WALLSMATERIAL_MODE_Wooden  EMERGENCYSTATE_MODE_No  \\\n",
       "0                             0                       1   \n",
       "1                             0                       1   \n",
       "2                             0                       1   \n",
       "3                             0                       1   \n",
       "4                             0                       1   \n",
       "...                         ...                     ...   \n",
       "8398                          0                       1   \n",
       "8399                          0                       1   \n",
       "8400                          0                       1   \n",
       "8401                          0                       1   \n",
       "8402                          0                       1   \n",
       "\n",
       "      EMERGENCYSTATE_MODE_Yes  \n",
       "0                           0  \n",
       "1                           0  \n",
       "2                           0  \n",
       "3                           0  \n",
       "4                           0  \n",
       "...                       ...  \n",
       "8398                        0  \n",
       "8399                        0  \n",
       "8400                        0  \n",
       "8401                        0  \n",
       "8402                        0  \n",
       "\n",
       "[8403 rows x 213 columns]"
      ]
     },
     "execution_count": 4,
     "metadata": {},
     "output_type": "execute_result"
    }
   ],
   "source": [
    "df_test"
   ]
  },
  {
   "cell_type": "code",
   "execution_count": 5,
   "metadata": {},
   "outputs": [
    {
     "data": {
      "text/html": [
       "<div>\n",
       "<style scoped>\n",
       "    .dataframe tbody tr th:only-of-type {\n",
       "        vertical-align: middle;\n",
       "    }\n",
       "\n",
       "    .dataframe tbody tr th {\n",
       "        vertical-align: top;\n",
       "    }\n",
       "\n",
       "    .dataframe thead th {\n",
       "        text-align: right;\n",
       "    }\n",
       "</style>\n",
       "<table border=\"1\" class=\"dataframe\">\n",
       "  <thead>\n",
       "    <tr style=\"text-align: right;\">\n",
       "      <th></th>\n",
       "      <th>SK_ID_CURR</th>\n",
       "      <th>TARGET</th>\n",
       "      <th>CNT_CHILDREN</th>\n",
       "      <th>AMT_INCOME_TOTAL</th>\n",
       "      <th>AMT_CREDIT</th>\n",
       "      <th>AMT_ANNUITY</th>\n",
       "      <th>AMT_GOODS_PRICE</th>\n",
       "      <th>REGION_POPULATION_RELATIVE</th>\n",
       "      <th>DAYS_BIRTH</th>\n",
       "      <th>DAYS_EMPLOYED</th>\n",
       "      <th>...</th>\n",
       "      <th>HOUSETYPE_MODE_terraced house</th>\n",
       "      <th>WALLSMATERIAL_MODE_Block</th>\n",
       "      <th>WALLSMATERIAL_MODE_Mixed</th>\n",
       "      <th>WALLSMATERIAL_MODE_Monolithic</th>\n",
       "      <th>WALLSMATERIAL_MODE_Others</th>\n",
       "      <th>WALLSMATERIAL_MODE_Panel</th>\n",
       "      <th>WALLSMATERIAL_MODE_Stone, brick</th>\n",
       "      <th>WALLSMATERIAL_MODE_Wooden</th>\n",
       "      <th>EMERGENCYSTATE_MODE_No</th>\n",
       "      <th>EMERGENCYSTATE_MODE_Yes</th>\n",
       "    </tr>\n",
       "  </thead>\n",
       "  <tbody>\n",
       "    <tr>\n",
       "      <th>0</th>\n",
       "      <td>2.571996</td>\n",
       "      <td>0</td>\n",
       "      <td>-5.199338</td>\n",
       "      <td>-1.368450</td>\n",
       "      <td>-0.257495</td>\n",
       "      <td>-0.257495</td>\n",
       "      <td>-0.086674</td>\n",
       "      <td>0.291367</td>\n",
       "      <td>-0.564986</td>\n",
       "      <td>1.018778</td>\n",
       "      <td>...</td>\n",
       "      <td>0</td>\n",
       "      <td>0</td>\n",
       "      <td>0</td>\n",
       "      <td>0</td>\n",
       "      <td>0</td>\n",
       "      <td>1</td>\n",
       "      <td>0</td>\n",
       "      <td>0</td>\n",
       "      <td>1</td>\n",
       "      <td>0</td>\n",
       "    </tr>\n",
       "    <tr>\n",
       "      <th>1</th>\n",
       "      <td>2.476608</td>\n",
       "      <td>0</td>\n",
       "      <td>-5.199338</td>\n",
       "      <td>1.088723</td>\n",
       "      <td>0.177827</td>\n",
       "      <td>0.202098</td>\n",
       "      <td>0.320290</td>\n",
       "      <td>5.199338</td>\n",
       "      <td>1.339147</td>\n",
       "      <td>-0.584288</td>\n",
       "      <td>...</td>\n",
       "      <td>0</td>\n",
       "      <td>1</td>\n",
       "      <td>0</td>\n",
       "      <td>0</td>\n",
       "      <td>0</td>\n",
       "      <td>0</td>\n",
       "      <td>0</td>\n",
       "      <td>0</td>\n",
       "      <td>1</td>\n",
       "      <td>0</td>\n",
       "    </tr>\n",
       "    <tr>\n",
       "      <th>2</th>\n",
       "      <td>0.081761</td>\n",
       "      <td>0</td>\n",
       "      <td>-5.199338</td>\n",
       "      <td>1.088723</td>\n",
       "      <td>0.118204</td>\n",
       "      <td>0.624172</td>\n",
       "      <td>-0.086674</td>\n",
       "      <td>5.199338</td>\n",
       "      <td>-0.108581</td>\n",
       "      <td>-0.044369</td>\n",
       "      <td>...</td>\n",
       "      <td>0</td>\n",
       "      <td>0</td>\n",
       "      <td>0</td>\n",
       "      <td>0</td>\n",
       "      <td>0</td>\n",
       "      <td>1</td>\n",
       "      <td>0</td>\n",
       "      <td>0</td>\n",
       "      <td>1</td>\n",
       "      <td>0</td>\n",
       "    </tr>\n",
       "    <tr>\n",
       "      <th>3</th>\n",
       "      <td>-0.475078</td>\n",
       "      <td>0</td>\n",
       "      <td>-5.199338</td>\n",
       "      <td>-0.091712</td>\n",
       "      <td>-0.132113</td>\n",
       "      <td>0.385388</td>\n",
       "      <td>-0.280911</td>\n",
       "      <td>-0.517790</td>\n",
       "      <td>0.889772</td>\n",
       "      <td>0.064289</td>\n",
       "      <td>...</td>\n",
       "      <td>0</td>\n",
       "      <td>0</td>\n",
       "      <td>0</td>\n",
       "      <td>0</td>\n",
       "      <td>0</td>\n",
       "      <td>0</td>\n",
       "      <td>1</td>\n",
       "      <td>0</td>\n",
       "      <td>1</td>\n",
       "      <td>0</td>\n",
       "    </tr>\n",
       "    <tr>\n",
       "      <th>4</th>\n",
       "      <td>-0.480132</td>\n",
       "      <td>0</td>\n",
       "      <td>-5.199338</td>\n",
       "      <td>0.459820</td>\n",
       "      <td>0.354822</td>\n",
       "      <td>0.545244</td>\n",
       "      <td>0.504922</td>\n",
       "      <td>5.199338</td>\n",
       "      <td>-1.459761</td>\n",
       "      <td>-2.159307</td>\n",
       "      <td>...</td>\n",
       "      <td>0</td>\n",
       "      <td>0</td>\n",
       "      <td>0</td>\n",
       "      <td>0</td>\n",
       "      <td>0</td>\n",
       "      <td>1</td>\n",
       "      <td>0</td>\n",
       "      <td>0</td>\n",
       "      <td>1</td>\n",
       "      <td>0</td>\n",
       "    </tr>\n",
       "    <tr>\n",
       "      <th>...</th>\n",
       "      <td>...</td>\n",
       "      <td>...</td>\n",
       "      <td>...</td>\n",
       "      <td>...</td>\n",
       "      <td>...</td>\n",
       "      <td>...</td>\n",
       "      <td>...</td>\n",
       "      <td>...</td>\n",
       "      <td>...</td>\n",
       "      <td>...</td>\n",
       "      <td>...</td>\n",
       "      <td>...</td>\n",
       "      <td>...</td>\n",
       "      <td>...</td>\n",
       "      <td>...</td>\n",
       "      <td>...</td>\n",
       "      <td>...</td>\n",
       "      <td>...</td>\n",
       "      <td>...</td>\n",
       "      <td>...</td>\n",
       "      <td>...</td>\n",
       "    </tr>\n",
       "    <tr>\n",
       "      <th>7523</th>\n",
       "      <td>3.161930</td>\n",
       "      <td>1</td>\n",
       "      <td>0.733156</td>\n",
       "      <td>-0.421111</td>\n",
       "      <td>-0.189187</td>\n",
       "      <td>0.532893</td>\n",
       "      <td>-0.322932</td>\n",
       "      <td>0.180377</td>\n",
       "      <td>0.473331</td>\n",
       "      <td>-0.205941</td>\n",
       "      <td>...</td>\n",
       "      <td>0</td>\n",
       "      <td>0</td>\n",
       "      <td>0</td>\n",
       "      <td>0</td>\n",
       "      <td>0</td>\n",
       "      <td>0</td>\n",
       "      <td>1</td>\n",
       "      <td>0</td>\n",
       "      <td>1</td>\n",
       "      <td>0</td>\n",
       "    </tr>\n",
       "    <tr>\n",
       "      <th>7524</th>\n",
       "      <td>3.247057</td>\n",
       "      <td>1</td>\n",
       "      <td>0.733156</td>\n",
       "      <td>0.991746</td>\n",
       "      <td>0.429987</td>\n",
       "      <td>1.310640</td>\n",
       "      <td>0.377630</td>\n",
       "      <td>-0.075345</td>\n",
       "      <td>0.772027</td>\n",
       "      <td>-0.066450</td>\n",
       "      <td>...</td>\n",
       "      <td>0</td>\n",
       "      <td>0</td>\n",
       "      <td>0</td>\n",
       "      <td>0</td>\n",
       "      <td>0</td>\n",
       "      <td>1</td>\n",
       "      <td>0</td>\n",
       "      <td>0</td>\n",
       "      <td>1</td>\n",
       "      <td>0</td>\n",
       "    </tr>\n",
       "    <tr>\n",
       "      <th>7525</th>\n",
       "      <td>3.383887</td>\n",
       "      <td>1</td>\n",
       "      <td>-5.199338</td>\n",
       "      <td>0.071571</td>\n",
       "      <td>1.721914</td>\n",
       "      <td>1.044409</td>\n",
       "      <td>1.355761</td>\n",
       "      <td>1.132898</td>\n",
       "      <td>0.814576</td>\n",
       "      <td>-0.705530</td>\n",
       "      <td>...</td>\n",
       "      <td>0</td>\n",
       "      <td>0</td>\n",
       "      <td>0</td>\n",
       "      <td>0</td>\n",
       "      <td>0</td>\n",
       "      <td>0</td>\n",
       "      <td>1</td>\n",
       "      <td>0</td>\n",
       "      <td>1</td>\n",
       "      <td>0</td>\n",
       "    </tr>\n",
       "    <tr>\n",
       "      <th>7526</th>\n",
       "      <td>3.436495</td>\n",
       "      <td>1</td>\n",
       "      <td>0.733156</td>\n",
       "      <td>0.552537</td>\n",
       "      <td>-0.257495</td>\n",
       "      <td>0.490519</td>\n",
       "      <td>-0.086674</td>\n",
       "      <td>0.091712</td>\n",
       "      <td>1.370228</td>\n",
       "      <td>-0.688441</td>\n",
       "      <td>...</td>\n",
       "      <td>0</td>\n",
       "      <td>0</td>\n",
       "      <td>0</td>\n",
       "      <td>0</td>\n",
       "      <td>0</td>\n",
       "      <td>0</td>\n",
       "      <td>1</td>\n",
       "      <td>0</td>\n",
       "      <td>1</td>\n",
       "      <td>0</td>\n",
       "    </tr>\n",
       "    <tr>\n",
       "      <th>7527</th>\n",
       "      <td>5.199338</td>\n",
       "      <td>1</td>\n",
       "      <td>-5.199338</td>\n",
       "      <td>0.718462</td>\n",
       "      <td>-0.026349</td>\n",
       "      <td>-0.258827</td>\n",
       "      <td>-0.086674</td>\n",
       "      <td>-0.461215</td>\n",
       "      <td>-0.470049</td>\n",
       "      <td>1.320531</td>\n",
       "      <td>...</td>\n",
       "      <td>0</td>\n",
       "      <td>0</td>\n",
       "      <td>0</td>\n",
       "      <td>0</td>\n",
       "      <td>0</td>\n",
       "      <td>0</td>\n",
       "      <td>1</td>\n",
       "      <td>0</td>\n",
       "      <td>0</td>\n",
       "      <td>1</td>\n",
       "    </tr>\n",
       "  </tbody>\n",
       "</table>\n",
       "<p>7528 rows × 213 columns</p>\n",
       "</div>"
      ],
      "text/plain": [
       "      SK_ID_CURR  TARGET  CNT_CHILDREN  AMT_INCOME_TOTAL  AMT_CREDIT  \\\n",
       "0       2.571996       0     -5.199338         -1.368450   -0.257495   \n",
       "1       2.476608       0     -5.199338          1.088723    0.177827   \n",
       "2       0.081761       0     -5.199338          1.088723    0.118204   \n",
       "3      -0.475078       0     -5.199338         -0.091712   -0.132113   \n",
       "4      -0.480132       0     -5.199338          0.459820    0.354822   \n",
       "...          ...     ...           ...               ...         ...   \n",
       "7523    3.161930       1      0.733156         -0.421111   -0.189187   \n",
       "7524    3.247057       1      0.733156          0.991746    0.429987   \n",
       "7525    3.383887       1     -5.199338          0.071571    1.721914   \n",
       "7526    3.436495       1      0.733156          0.552537   -0.257495   \n",
       "7527    5.199338       1     -5.199338          0.718462   -0.026349   \n",
       "\n",
       "      AMT_ANNUITY  AMT_GOODS_PRICE  REGION_POPULATION_RELATIVE  DAYS_BIRTH  \\\n",
       "0       -0.257495        -0.086674                    0.291367   -0.564986   \n",
       "1        0.202098         0.320290                    5.199338    1.339147   \n",
       "2        0.624172        -0.086674                    5.199338   -0.108581   \n",
       "3        0.385388        -0.280911                   -0.517790    0.889772   \n",
       "4        0.545244         0.504922                    5.199338   -1.459761   \n",
       "...           ...              ...                         ...         ...   \n",
       "7523     0.532893        -0.322932                    0.180377    0.473331   \n",
       "7524     1.310640         0.377630                   -0.075345    0.772027   \n",
       "7525     1.044409         1.355761                    1.132898    0.814576   \n",
       "7526     0.490519        -0.086674                    0.091712    1.370228   \n",
       "7527    -0.258827        -0.086674                   -0.461215   -0.470049   \n",
       "\n",
       "      DAYS_EMPLOYED  ...  HOUSETYPE_MODE_terraced house  \\\n",
       "0          1.018778  ...                              0   \n",
       "1         -0.584288  ...                              0   \n",
       "2         -0.044369  ...                              0   \n",
       "3          0.064289  ...                              0   \n",
       "4         -2.159307  ...                              0   \n",
       "...             ...  ...                            ...   \n",
       "7523      -0.205941  ...                              0   \n",
       "7524      -0.066450  ...                              0   \n",
       "7525      -0.705530  ...                              0   \n",
       "7526      -0.688441  ...                              0   \n",
       "7527       1.320531  ...                              0   \n",
       "\n",
       "      WALLSMATERIAL_MODE_Block  WALLSMATERIAL_MODE_Mixed  \\\n",
       "0                            0                         0   \n",
       "1                            1                         0   \n",
       "2                            0                         0   \n",
       "3                            0                         0   \n",
       "4                            0                         0   \n",
       "...                        ...                       ...   \n",
       "7523                         0                         0   \n",
       "7524                         0                         0   \n",
       "7525                         0                         0   \n",
       "7526                         0                         0   \n",
       "7527                         0                         0   \n",
       "\n",
       "      WALLSMATERIAL_MODE_Monolithic  WALLSMATERIAL_MODE_Others  \\\n",
       "0                                 0                          0   \n",
       "1                                 0                          0   \n",
       "2                                 0                          0   \n",
       "3                                 0                          0   \n",
       "4                                 0                          0   \n",
       "...                             ...                        ...   \n",
       "7523                              0                          0   \n",
       "7524                              0                          0   \n",
       "7525                              0                          0   \n",
       "7526                              0                          0   \n",
       "7527                              0                          0   \n",
       "\n",
       "      WALLSMATERIAL_MODE_Panel  WALLSMATERIAL_MODE_Stone, brick  \\\n",
       "0                            1                                0   \n",
       "1                            0                                0   \n",
       "2                            1                                0   \n",
       "3                            0                                1   \n",
       "4                            1                                0   \n",
       "...                        ...                              ...   \n",
       "7523                         0                                1   \n",
       "7524                         1                                0   \n",
       "7525                         0                                1   \n",
       "7526                         0                                1   \n",
       "7527                         0                                1   \n",
       "\n",
       "      WALLSMATERIAL_MODE_Wooden  EMERGENCYSTATE_MODE_No  \\\n",
       "0                             0                       1   \n",
       "1                             0                       1   \n",
       "2                             0                       1   \n",
       "3                             0                       1   \n",
       "4                             0                       1   \n",
       "...                         ...                     ...   \n",
       "7523                          0                       1   \n",
       "7524                          0                       1   \n",
       "7525                          0                       1   \n",
       "7526                          0                       1   \n",
       "7527                          0                       0   \n",
       "\n",
       "      EMERGENCYSTATE_MODE_Yes  \n",
       "0                           0  \n",
       "1                           0  \n",
       "2                           0  \n",
       "3                           0  \n",
       "4                           0  \n",
       "...                       ...  \n",
       "7523                        0  \n",
       "7524                        0  \n",
       "7525                        0  \n",
       "7526                        0  \n",
       "7527                        1  \n",
       "\n",
       "[7528 rows x 213 columns]"
      ]
     },
     "execution_count": 5,
     "metadata": {},
     "output_type": "execute_result"
    }
   ],
   "source": [
    "df_train_balanced"
   ]
  },
  {
   "cell_type": "code",
   "execution_count": 6,
   "metadata": {},
   "outputs": [],
   "source": [
    "column_nan=df_train_balanced.columns.tolist()\n"
   ]
  },
  {
   "cell_type": "code",
   "execution_count": 8,
   "metadata": {},
   "outputs": [],
   "source": [
    "column_test=df_test.columns.tolist()"
   ]
  },
  {
   "cell_type": "raw",
   "metadata": {},
   "source": [
    "Split smatly the dataset in train, validation and test dataset"
   ]
  },
  {
   "cell_type": "code",
   "execution_count": 9,
   "metadata": {},
   "outputs": [],
   "source": [
    "def stratified_split(df, target, val_percent=0.2):\n",
    "    '''\n",
    "    Function to split a dataframe into train and validation sets, while preserving the ratio of the labels in the target variable\n",
    "    Inputs:\n",
    "    - df, the dataframe\n",
    "    - target, the target variable\n",
    "    - val_percent, the percentage of validation samples, default 0.2\n",
    "    Outputs:\n",
    "    - train_idxs, the indices of the training dataset\n",
    "    - val_idxs, the indices of the validation dataset\n",
    "    '''\n",
    "    classes=list(df[target].unique())\n",
    "    train_idxs, val_idxs = [], []\n",
    "    for c in classes:\n",
    "        idx=list(df[df[target]==c].index)\n",
    "        np.random.shuffle(idx)\n",
    "        val_size=int(len(idx)*val_percent)\n",
    "        val_idxs+=idx[:val_size]\n",
    "        train_idxs+=idx[val_size:]\n",
    "    return train_idxs, val_idxs\n",
    "\n",
    "\n",
    "train_idxs, val_idxs = stratified_split(df_train_balanced, 'TARGET', val_percent=0.25)\n",
    "\n",
    "val_idxs, test_idxs = stratified_split(df_train_balanced[df_train_balanced.index.isin(val_idxs)], 'TARGET', val_percent=0.5)"
   ]
  },
  {
   "cell_type": "code",
   "execution_count": 10,
   "metadata": {},
   "outputs": [
    {
     "name": "stdout",
     "output_type": "stream",
     "text": [
      "Retrieved Training Data\n",
      "(5646, 213) ---- (5646, 1)\n",
      "Retrieved Validation Data\n",
      "(942, 213) ---- (942, 1)\n",
      "Retrieved Test Data\n",
      "(940, 213) ---- (940, 1)\n"
     ]
    }
   ],
   "source": [
    "train_df = df_train_balanced[df_train_balanced.index.isin(train_idxs)]\n",
    "\n",
    "X_train = train_df[column_nan].values\n",
    "Y_train = train_df[['TARGET']].values\n",
    "print('Retrieved Training Data')\n",
    "print(X_train.shape,'----',Y_train.shape)\n",
    "\n",
    "val_df = df_train_balanced[df_train_balanced.index.isin(val_idxs)]\n",
    "X_val = val_df[column_nan].values\n",
    "Y_val = val_df[['TARGET']].values\n",
    "print('Retrieved Validation Data')\n",
    "print(X_val.shape,'----',Y_val.shape)\n",
    "\n",
    "test_df = df_train_balanced[df_train_balanced.index.isin(test_idxs)]\n",
    "X_test = test_df[column_nan].values\n",
    "Y_test = test_df[['TARGET']].values\n",
    "print('Retrieved Test Data')\n",
    "print(X_test.shape,'----',Y_test.shape)"
   ]
  },
  {
   "cell_type": "code",
   "execution_count": 11,
   "metadata": {},
   "outputs": [],
   "source": [
    "#store data, all in numpy arrays\n",
    "training_data = {'X_train':X_train,'Y_train':Y_train,\n",
    "                'X_val': X_val,'Y_val':Y_val,\n",
    "                'X_test': X_test,'Y_test':Y_test}"
   ]
  },
  {
   "cell_type": "markdown",
   "metadata": {},
   "source": [
    "## Random Forest"
   ]
  },
  {
   "cell_type": "raw",
   "metadata": {},
   "source": [
    "Create the model and fit with random value"
   ]
  },
  {
   "cell_type": "code",
   "execution_count": 12,
   "metadata": {},
   "outputs": [
    {
     "name": "stderr",
     "output_type": "stream",
     "text": [
      "[Parallel(n_jobs=1)]: Using backend SequentialBackend with 1 concurrent workers.\n",
      "[Parallel(n_jobs=1)]: Done 100 out of 100 | elapsed:    1.2s finished\n"
     ]
    },
    {
     "data": {
      "text/plain": [
       "RandomForestClassifier(random_state=27, verbose=1)"
      ]
     },
     "execution_count": 12,
     "metadata": {},
     "output_type": "execute_result"
    }
   ],
   "source": [
    "clf_balanced = RandomForestClassifier(n_jobs=None,random_state=27,\n",
    "                       verbose=1)\n",
    "clf_balanced.fit(training_data['X_train'], training_data['Y_train'].reshape(training_data['Y_train'].shape[0],))"
   ]
  },
  {
   "cell_type": "code",
   "execution_count": 13,
   "metadata": {},
   "outputs": [
    {
     "name": "stderr",
     "output_type": "stream",
     "text": [
      "[Parallel(n_jobs=1)]: Using backend SequentialBackend with 1 concurrent workers.\n",
      "[Parallel(n_jobs=1)]: Done 100 out of 100 | elapsed:    0.1s finished\n"
     ]
    }
   ],
   "source": [
    "predicted_labels = clf_balanced.predict(training_data['X_test'])"
   ]
  },
  {
   "cell_type": "code",
   "execution_count": 14,
   "metadata": {},
   "outputs": [
    {
     "data": {
      "text/plain": [
       "1.0"
      ]
     },
     "execution_count": 14,
     "metadata": {},
     "output_type": "execute_result"
    }
   ],
   "source": [
    "accuracy_score(training_data['Y_test'], predicted_labels)"
   ]
  },
  {
   "cell_type": "raw",
   "metadata": {},
   "source": [
    "Train model with different parameterr to find the best one"
   ]
  },
  {
   "cell_type": "code",
   "execution_count": 15,
   "metadata": {},
   "outputs": [
    {
     "name": "stdout",
     "output_type": "stream",
     "text": [
      "Fitting 5 folds for each of 40 candidates, totalling 200 fits\n"
     ]
    },
    {
     "name": "stderr",
     "output_type": "stream",
     "text": [
      "[Parallel(n_jobs=-1)]: Using backend LokyBackend with 4 concurrent workers.\n",
      "[Parallel(n_jobs=-1)]: Done   5 tasks      | elapsed:    7.5s\n",
      "[Parallel(n_jobs=-1)]: Done  10 tasks      | elapsed:   14.1s\n",
      "[Parallel(n_jobs=-1)]: Done  17 tasks      | elapsed:   22.7s\n",
      "[Parallel(n_jobs=-1)]: Done  24 tasks      | elapsed:   30.3s\n",
      "[Parallel(n_jobs=-1)]: Done  33 tasks      | elapsed:   42.9s\n",
      "[Parallel(n_jobs=-1)]: Done  42 tasks      | elapsed:   53.7s\n",
      "[Parallel(n_jobs=-1)]: Done  53 tasks      | elapsed:  1.0min\n",
      "[Parallel(n_jobs=-1)]: Done  64 tasks      | elapsed:  1.2min\n",
      "[Parallel(n_jobs=-1)]: Done  77 tasks      | elapsed:  1.5min\n",
      "[Parallel(n_jobs=-1)]: Done  90 tasks      | elapsed:  1.6min\n",
      "[Parallel(n_jobs=-1)]: Done 105 tasks      | elapsed:  2.1min\n",
      "[Parallel(n_jobs=-1)]: Done 120 tasks      | elapsed:  2.5min\n",
      "[Parallel(n_jobs=-1)]: Done 137 tasks      | elapsed:  2.6min\n",
      "[Parallel(n_jobs=-1)]: Done 154 tasks      | elapsed:  3.0min\n",
      "[Parallel(n_jobs=-1)]: Done 173 tasks      | elapsed:  3.3min\n",
      "[Parallel(n_jobs=-1)]: Done 192 tasks      | elapsed:  3.8min\n",
      "[Parallel(n_jobs=-1)]: Done 200 out of 200 | elapsed:  4.0min finished\n",
      "[Parallel(n_jobs=1)]: Using backend SequentialBackend with 1 concurrent workers.\n",
      "[Parallel(n_jobs=1)]: Done 450 out of 450 | elapsed:    4.6s finished\n"
     ]
    },
    {
     "data": {
      "text/plain": [
       "GridSearchCV(cv=5, estimator=RandomForestClassifier(random_state=27, verbose=1),\n",
       "             n_jobs=-1,\n",
       "             param_grid={'criterion': ['gini'], 'max_depth': [8, 9, 10, 11, 12],\n",
       "                         'max_features': ['auto'],\n",
       "                         'n_estimators': range(100, 500, 50)},\n",
       "             scoring='f1_micro', verbose=10)"
      ]
     },
     "execution_count": 15,
     "metadata": {},
     "output_type": "execute_result"
    }
   ],
   "source": [
    "params = {\n",
    "    'n_estimators'      : range(100,500,50),\n",
    "    'max_depth'         : [8, 9, 10, 11, 12],\n",
    "    'max_features': ['auto'],\n",
    "    'criterion' :['gini']\n",
    "}\n",
    "#metrics to consider: f1_micro, f1_macro, roc_auc_ovr\n",
    "gsearch1 = GridSearchCV(estimator = clf_balanced, param_grid = params, scoring='f1_micro',n_jobs=-1,verbose = 10, cv=5)\n",
    "gsearch1.fit(training_data['X_train'], training_data['Y_train'].reshape(training_data['Y_train'].shape[0],))\n",
    "\n"
   ]
  },
  {
   "cell_type": "code",
   "execution_count": 16,
   "metadata": {},
   "outputs": [],
   "source": [
    "def getTrainScores(gs):\n",
    "    results = {}\n",
    "    runs = 0\n",
    "    for x,y in zip(list(gs.cv_results_['mean_test_score']), gs.cv_results_['params']):\n",
    "        results[runs] = 'mean:' + str(x) + 'params' + str(y)\n",
    "        runs += 1\n",
    "    best = {'best_mean': gs.best_score_, \"best_param\":gs.best_params_}\n",
    "    return results, best"
   ]
  },
  {
   "cell_type": "code",
   "execution_count": 17,
   "metadata": {},
   "outputs": [
    {
     "data": {
      "text/plain": [
       "({0: \"mean:0.9330854307594629params{'criterion': 'gini', 'max_depth': 8, 'max_features': 'auto', 'n_estimators': 100}\",\n",
       "  1: \"mean:0.9314735414690736params{'criterion': 'gini', 'max_depth': 8, 'max_features': 'auto', 'n_estimators': 150}\",\n",
       "  2: \"mean:0.9420923834233443params{'criterion': 'gini', 'max_depth': 8, 'max_features': 'auto', 'n_estimators': 200}\",\n",
       "  3: \"mean:0.9470515845332622params{'criterion': 'gini', 'max_depth': 8, 'max_features': 'auto', 'n_estimators': 250}\",\n",
       "  4: \"mean:0.9564374456210759params{'criterion': 'gini', 'max_depth': 8, 'max_features': 'auto', 'n_estimators': 300}\",\n",
       "  5: \"mean:0.9683011828150843params{'criterion': 'gini', 'max_depth': 8, 'max_features': 'auto', 'n_estimators': 350}\",\n",
       "  6: \"mean:0.9695420020850154params{'criterion': 'gini', 'max_depth': 8, 'max_features': 'auto', 'n_estimators': 400}\",\n",
       "  7: \"mean:0.9651175368600924params{'criterion': 'gini', 'max_depth': 8, 'max_features': 'auto', 'n_estimators': 450}\",\n",
       "  8: \"mean:0.9544908565023477params{'criterion': 'gini', 'max_depth': 9, 'max_features': 'auto', 'n_estimators': 100}\",\n",
       "  9: \"mean:0.9603282723374903params{'criterion': 'gini', 'max_depth': 9, 'max_features': 'auto', 'n_estimators': 150}\",\n",
       "  10: \"mean:0.9603267046567956params{'criterion': 'gini', 'max_depth': 9, 'max_features': 'auto', 'n_estimators': 200}\",\n",
       "  11: \"mean:0.9576732483127838params{'criterion': 'gini', 'max_depth': 9, 'max_features': 'auto', 'n_estimators': 250}\",\n",
       "  12: \"mean:0.9601530056358121params{'criterion': 'gini', 'max_depth': 9, 'max_features': 'auto', 'n_estimators': 300}\",\n",
       "  13: \"mean:0.9681232510562248params{'criterion': 'gini', 'max_depth': 9, 'max_features': 'auto', 'n_estimators': 350}\",\n",
       "  14: \"mean:0.9688332536428981params{'criterion': 'gini', 'max_depth': 9, 'max_features': 'auto', 'n_estimators': 400}\",\n",
       "  15: \"mean:0.9649385077247465params{'criterion': 'gini', 'max_depth': 9, 'max_features': 'auto', 'n_estimators': 450}\",\n",
       "  16: \"mean:0.9479519035562836params{'criterion': 'gini', 'max_depth': 10, 'max_features': 'auto', 'n_estimators': 100}\",\n",
       "  17: \"mean:0.9629959945758249params{'criterion': 'gini', 'max_depth': 10, 'max_features': 'auto', 'n_estimators': 150}\",\n",
       "  18: \"mean:0.9723719792752611params{'criterion': 'gini', 'max_depth': 10, 'max_features': 'auto', 'n_estimators': 200}\",\n",
       "  19: \"mean:0.9638735822287716params{'criterion': 'gini', 'max_depth': 10, 'max_features': 'auto', 'n_estimators': 250}\",\n",
       "  20: \"mean:0.9658214254920559params{'criterion': 'gini', 'max_depth': 10, 'max_features': 'auto', 'n_estimators': 300}\",\n",
       "  21: \"mean:0.9697191500035272params{'criterion': 'gini', 'max_depth': 10, 'max_features': 'auto', 'n_estimators': 350}\",\n",
       "  22: \"mean:0.9805228215117145params{'criterion': 'gini', 'max_depth': 10, 'max_features': 'auto', 'n_estimators': 400}\",\n",
       "  23: \"mean:0.9782202121071979params{'criterion': 'gini', 'max_depth': 10, 'max_features': 'auto', 'n_estimators': 450}\",\n",
       "  24: \"mean:0.9801699365873159params{'criterion': 'gini', 'max_depth': 11, 'max_features': 'auto', 'n_estimators': 100}\",\n",
       "  25: \"mean:0.9764473220094532params{'criterion': 'gini', 'max_depth': 11, 'max_features': 'auto', 'n_estimators': 150}\",\n",
       "  26: \"mean:0.9729021688862414params{'criterion': 'gini', 'max_depth': 11, 'max_features': 'auto', 'n_estimators': 200}\",\n",
       "  27: \"mean:0.9762698605548021params{'criterion': 'gini', 'max_depth': 11, 'max_features': 'auto', 'n_estimators': 250}\",\n",
       "  28: \"mean:0.9759147808774309params{'criterion': 'gini', 'max_depth': 11, 'max_features': 'auto', 'n_estimators': 300}\",\n",
       "  29: \"mean:0.9842375976861033params{'criterion': 'gini', 'max_depth': 11, 'max_features': 'auto', 'n_estimators': 350}\",\n",
       "  30: \"mean:0.9877796154479256params{'criterion': 'gini', 'max_depth': 11, 'max_features': 'auto', 'n_estimators': 400}\",\n",
       "  31: \"mean:0.9872486419965982params{'criterion': 'gini', 'max_depth': 11, 'max_features': 'auto', 'n_estimators': 450}\",\n",
       "  32: \"mean:0.9791067355401053params{'criterion': 'gini', 'max_depth': 12, 'max_features': 'auto', 'n_estimators': 100}\",\n",
       "  33: \"mean:0.976802871991033params{'criterion': 'gini', 'max_depth': 12, 'max_features': 'auto', 'n_estimators': 150}\",\n",
       "  34: \"mean:0.9835279086355693params{'criterion': 'gini', 'max_depth': 12, 'max_features': 'auto', 'n_estimators': 200}\",\n",
       "  35: \"mean:0.9833543663826552params{'criterion': 'gini', 'max_depth': 12, 'max_features': 'auto', 'n_estimators': 250}\",\n",
       "  36: \"mean:0.9883102753631141params{'criterion': 'gini', 'max_depth': 12, 'max_features': 'auto', 'n_estimators': 300}\",\n",
       "  37: \"mean:0.9897265181027928params{'criterion': 'gini', 'max_depth': 12, 'max_features': 'auto', 'n_estimators': 350}\",\n",
       "  38: \"mean:0.9911437014508884params{'criterion': 'gini', 'max_depth': 12, 'max_features': 'auto', 'n_estimators': 400}\",\n",
       "  39: \"mean:0.9929156509402164params{'criterion': 'gini', 'max_depth': 12, 'max_features': 'auto', 'n_estimators': 450}\"},\n",
       " {'best_mean': 0.9929156509402164,\n",
       "  'best_param': {'criterion': 'gini',\n",
       "   'max_depth': 12,\n",
       "   'max_features': 'auto',\n",
       "   'n_estimators': 450}})"
      ]
     },
     "execution_count": 17,
     "metadata": {},
     "output_type": "execute_result"
    }
   ],
   "source": [
    "getTrainScores(gsearch1)"
   ]
  },
  {
   "cell_type": "raw",
   "metadata": {},
   "source": [
    "refine the parameters"
   ]
  },
  {
   "cell_type": "code",
   "execution_count": 18,
   "metadata": {},
   "outputs": [
    {
     "name": "stderr",
     "output_type": "stream",
     "text": [
      "[Parallel(n_jobs=-1)]: Using backend LokyBackend with 4 concurrent workers.\n"
     ]
    },
    {
     "name": "stdout",
     "output_type": "stream",
     "text": [
      "Fitting 5 folds for each of 30 candidates, totalling 150 fits\n"
     ]
    },
    {
     "name": "stderr",
     "output_type": "stream",
     "text": [
      "[Parallel(n_jobs=-1)]: Done   5 tasks      | elapsed:   14.8s\n",
      "[Parallel(n_jobs=-1)]: Done  10 tasks      | elapsed:   21.5s\n",
      "[Parallel(n_jobs=-1)]: Done  17 tasks      | elapsed:   38.1s\n",
      "[Parallel(n_jobs=-1)]: Done  24 tasks      | elapsed:   45.5s\n",
      "[Parallel(n_jobs=-1)]: Done  33 tasks      | elapsed:  1.2min\n",
      "[Parallel(n_jobs=-1)]: Done  42 tasks      | elapsed:  1.5min\n",
      "[Parallel(n_jobs=-1)]: Done  53 tasks      | elapsed:  1.8min\n",
      "[Parallel(n_jobs=-1)]: Done  64 tasks      | elapsed:  2.0min\n",
      "[Parallel(n_jobs=-1)]: Done  77 tasks      | elapsed:  2.5min\n",
      "[Parallel(n_jobs=-1)]: Done  90 tasks      | elapsed:  3.0min\n",
      "[Parallel(n_jobs=-1)]: Done 105 tasks      | elapsed:  3.4min\n",
      "[Parallel(n_jobs=-1)]: Done 120 tasks      | elapsed:  3.8min\n",
      "[Parallel(n_jobs=-1)]: Done 137 tasks      | elapsed:  4.3min\n",
      "[Parallel(n_jobs=-1)]: Done 150 out of 150 | elapsed:  4.7min finished\n",
      "[Parallel(n_jobs=1)]: Using backend SequentialBackend with 1 concurrent workers.\n",
      "[Parallel(n_jobs=1)]: Done 440 out of 440 | elapsed:    4.7s finished\n"
     ]
    },
    {
     "data": {
      "text/plain": [
       "GridSearchCV(cv=5,\n",
       "             estimator=RandomForestClassifier(max_depth=12, n_estimators=450,\n",
       "                                              random_state=27, verbose=1),\n",
       "             n_jobs=-1,\n",
       "             param_grid={'max_depth': [11, 12, 13],\n",
       "                         'n_estimators': range(400, 500, 10)},\n",
       "             scoring='f1_micro', verbose=10)"
      ]
     },
     "execution_count": 18,
     "metadata": {},
     "output_type": "execute_result"
    }
   ],
   "source": [
    "clf2 = gsearch1.best_estimator_\n",
    "\n",
    "params1 = {\n",
    "    'n_estimators'      : range(400,500,10),\n",
    "    'max_depth'         : [11, 12,13]\n",
    "}\n",
    "#metrics to consider: f1_micro, f1_macro, roc_auc_ovr\n",
    "gsearch2 = GridSearchCV(estimator = clf2, param_grid = params1, scoring='f1_micro',n_jobs=-1,verbose = 10, cv=5)\n",
    "gsearch2.fit(training_data['X_train'], training_data['Y_train'].reshape(training_data['Y_train'].shape[0],))"
   ]
  },
  {
   "cell_type": "code",
   "execution_count": 19,
   "metadata": {},
   "outputs": [
    {
     "data": {
      "text/plain": [
       "({0: \"mean:0.9877796154479256params{'max_depth': 11, 'n_estimators': 400}\",\n",
       "  1: \"mean:0.9877788316075782params{'max_depth': 11, 'n_estimators': 410}\",\n",
       "  2: \"mean:0.9872480149243202params{'max_depth': 11, 'n_estimators': 420}\",\n",
       "  3: \"mean:0.9874253196109016params{'max_depth': 11, 'n_estimators': 430}\",\n",
       "  4: \"mean:0.9897271451750708params{'max_depth': 11, 'n_estimators': 440}\",\n",
       "  5: \"mean:0.9872486419965982params{'max_depth': 11, 'n_estimators': 450}\",\n",
       "  6: \"mean:0.9886653550404854params{'max_depth': 11, 'n_estimators': 460}\",\n",
       "  7: \"mean:0.9886656685766242params{'max_depth': 11, 'n_estimators': 470}\",\n",
       "  8: \"mean:0.9897274587112097params{'max_depth': 11, 'n_estimators': 480}\",\n",
       "  9: \"mean:0.9879564498302985params{'max_depth': 11, 'n_estimators': 490}\",\n",
       "  10: \"mean:0.9911437014508884params{'max_depth': 12, 'n_estimators': 400}\",\n",
       "  11: \"mean:0.9918519795887974params{'max_depth': 12, 'n_estimators': 410}\",\n",
       "  12: \"mean:0.9913205358332615params{'max_depth': 12, 'n_estimators': 420}\",\n",
       "  13: \"mean:0.9918529201972142params{'max_depth': 12, 'n_estimators': 430}\",\n",
       "  14: \"mean:0.9943318936798953params{'max_depth': 12, 'n_estimators': 440}\",\n",
       "  15: \"mean:0.9929156509402164params{'max_depth': 12, 'n_estimators': 450}\",\n",
       "  16: \"mean:0.9939780681470797params{'max_depth': 12, 'n_estimators': 460}\",\n",
       "  17: \"mean:0.993269476473032params{'max_depth': 12, 'n_estimators': 470}\",\n",
       "  18: \"mean:0.993269162936893params{'max_depth': 12, 'n_estimators': 480}\",\n",
       "  19: \"mean:0.9916753019744938params{'max_depth': 12, 'n_estimators': 490}\",\n",
       "  20: \"mean:0.9847659060802496params{'max_depth': 13, 'n_estimators': 400}\",\n",
       "  21: \"mean:0.9863602373468572params{'max_depth': 13, 'n_estimators': 410}\",\n",
       "  22: \"mean:0.9865376988015081params{'max_depth': 13, 'n_estimators': 420}\",\n",
       "  23: \"mean:0.9881320300681157params{'max_depth': 13, 'n_estimators': 430}\",\n",
       "  24: \"mean:0.9890176128926059params{'max_depth': 13, 'n_estimators': 440}\",\n",
       "  25: \"mean:0.9890176128926059params{'max_depth': 13, 'n_estimators': 450}\",\n",
       "  26: \"mean:0.9881317165319767params{'max_depth': 13, 'n_estimators': 460}\",\n",
       "  27: \"mean:0.9888403082060246params{'max_depth': 13, 'n_estimators': 470}\",\n",
       "  28: \"mean:0.988485855600931params{'max_depth': 13, 'n_estimators': 480}\",\n",
       "  29: \"mean:0.9868916811023931params{'max_depth': 13, 'n_estimators': 490}\"},\n",
       " {'best_mean': 0.9943318936798953,\n",
       "  'best_param': {'max_depth': 12, 'n_estimators': 440}})"
      ]
     },
     "execution_count": 19,
     "metadata": {},
     "output_type": "execute_result"
    }
   ],
   "source": [
    "getTrainScores(gsearch2)"
   ]
  },
  {
   "cell_type": "code",
   "execution_count": 20,
   "metadata": {},
   "outputs": [
    {
     "name": "stderr",
     "output_type": "stream",
     "text": [
      "[Parallel(n_jobs=1)]: Using backend SequentialBackend with 1 concurrent workers.\n",
      "[Parallel(n_jobs=1)]: Done 450 out of 450 | elapsed:    0.3s finished\n"
     ]
    },
    {
     "data": {
      "text/plain": [
       "array([0])"
      ]
     },
     "execution_count": 20,
     "metadata": {},
     "output_type": "execute_result"
    }
   ],
   "source": [
    "clf2.predict(X_test[4,:].reshape(1,-1))"
   ]
  },
  {
   "cell_type": "markdown",
   "metadata": {},
   "source": [
    "## Xgboost"
   ]
  },
  {
   "cell_type": "code",
   "execution_count": 21,
   "metadata": {},
   "outputs": [],
   "source": [
    "import xgboost as xgb\n",
    "import matplotlib.pyplot as plt\n",
    "from xgboost.sklearn import XGBClassifier\n",
    "import seaborn as sns"
   ]
  },
  {
   "cell_type": "raw",
   "metadata": {},
   "source": [
    "Create function to plot and fit our Xgboost model"
   ]
  },
  {
   "cell_type": "code",
   "execution_count": 25,
   "metadata": {},
   "outputs": [],
   "source": [
    "#allow logloss and classification error plots for each iteraetion of xgb model\n",
    "def plot_compare(metrics,eval_results,epochs):\n",
    "    for m in metrics:\n",
    "        test_score = eval_results['val'][m]\n",
    "        train_score = eval_results['train'][m]\n",
    "        rang = range(0, epochs)\n",
    "        plt.rcParams[\"figure.figsize\"] = [6,6]\n",
    "        plt.plot(rang, test_score,\"c\", label=\"Val\")\n",
    "        plt.plot(rang, train_score,\"orange\", label=\"Train\")\n",
    "        title_name = m + \" plot\"\n",
    "        plt.title(title_name)\n",
    "        plt.xlabel('Iterations')\n",
    "        plt.ylabel(m)\n",
    "        lgd = plt.legend()\n",
    "        plt.show()\n",
    "        \n",
    "def fitXgb(sk_model, training_data=training_data,epochs=300):\n",
    "    print('Fitting model...')\n",
    "    sk_model.fit(training_data['X_train'], training_data['Y_train'].reshape(training_data['Y_train'].shape[0],))\n",
    "    print('Fitting done!')\n",
    "    train = xgb.DMatrix(training_data['X_train'], label=training_data['Y_train'])\n",
    "    val = xgb.DMatrix(training_data['X_val'], label=training_data['Y_val'])\n",
    "    params = sk_model.get_xgb_params()\n",
    "    metrics = ['mlogloss','merror']\n",
    "    params['eval_metric'] = metrics\n",
    "    store = {}\n",
    "    evallist = [(val, 'val'),(train,'train')]\n",
    "    xgb_model = xgb.train(params, train, epochs, evallist,evals_result=store,verbose_eval=100)\n",
    "    print('-- Model Report --')\n",
    "    print('XGBoost Accuracy: '+str(accuracy_score(sk_model.predict(training_data['X_test']), training_data['Y_test'])))\n",
    "    print('XGBoost F1-Score (Micro): '+str(f1_score(sk_model.predict(training_data['X_test']),training_data['Y_test'],average='micro')))\n",
    "    plot_compare(metrics,store,epochs)\n",
    "    \n",
    "    plot_compare(metrics,store,epochs)\n",
    "    features = column_nan\n",
    "    f, ax = plt.subplots(figsize=(10,5))\n",
    "    plot = sns.barplot(x=features, y=sk_model.feature_importances_)\n",
    "    ax.set_title('Feature Importance')\n",
    "    plot.set_xticklabels(plot.get_xticklabels(),rotation='vertical')\n",
    "    plt.show()"
   ]
  },
  {
   "cell_type": "code",
   "execution_count": 26,
   "metadata": {},
   "outputs": [],
   "source": [
    "#initial model\n",
    "xgb1 = XGBClassifier(learning_rate=0.1,\n",
    "                    n_estimators=500,\n",
    "                    max_depth=5,\n",
    "                    min_child_weight=1,\n",
    "                    gamma=0,\n",
    "                    subsample=0.8,\n",
    "                    colsample_bytree=0.8,\n",
    "                    objective='multi:softmax',\n",
    "                    nthread=4,\n",
    "                    num_class=9,\n",
    "                    seed=27)"
   ]
  },
  {
   "cell_type": "code",
   "execution_count": 27,
   "metadata": {
    "scrolled": true
   },
   "outputs": [
    {
     "name": "stdout",
     "output_type": "stream",
     "text": [
      "Fitting model...\n",
      "Fitting done!\n",
      "[0]\tval-mlogloss:1.76254\tval-merror:0.00000\ttrain-mlogloss:1.76253\ttrain-merror:0.00000\n",
      "[100]\tval-mlogloss:0.00055\tval-merror:0.00000\ttrain-mlogloss:0.00053\ttrain-merror:0.00000\n",
      "[200]\tval-mlogloss:0.00028\tval-merror:0.00000\ttrain-mlogloss:0.00028\ttrain-merror:0.00000\n",
      "[299]\tval-mlogloss:0.00025\tval-merror:0.00000\ttrain-mlogloss:0.00025\ttrain-merror:0.00000\n",
      "-- Model Report --\n",
      "XGBoost Accuracy: 1.0\n",
      "XGBoost F1-Score (Micro): 1.0\n"
     ]
    },
    {
     "data": {
      "image/png": "[encoded data removed]",
      "text/plain": [
       "<Figure size 432x432 with 1 Axes>"
      ]
     },
     "metadata": {
      "needs_background": "light"
     },
     "output_type": "display_data"
    },
    {
     "data": {
      "image/png": "[encoded data removed]",
      "text/plain": [
       "<Figure size 432x432 with 1 Axes>"
      ]
     },
     "metadata": {
      "needs_background": "light"
     },
     "output_type": "display_data"
    },
    {
     "data": {
      "image/png": "[encoded data removed]",
      "text/plain": [
       "<Figure size 432x432 with 1 Axes>"
      ]
     },
     "metadata": {
      "needs_background": "light"
     },
     "output_type": "display_data"
    },
    {
     "data": {
      "image/png": "[encoded data removed]",
      "text/plain": [
       "<Figure size 432x432 with 1 Axes>"
      ]
     },
     "metadata": {
      "needs_background": "light"
     },
     "output_type": "display_data"
    },
    {
     "data": {
      "image/png": "[encoded data removed]",
      "text/plain": [
       "<Figure size 720x360 with 1 Axes>"
      ]
     },
     "metadata": {
      "needs_background": "light"
     },
     "output_type": "display_data"
    }
   ],
   "source": [
    "fitXgb(xgb1, training_data)"
   ]
  },
  {
   "cell_type": "markdown",
   "metadata": {},
   "source": [
    "## Gradient boosting"
   ]
  },
  {
   "cell_type": "code",
   "execution_count": 28,
   "metadata": {},
   "outputs": [],
   "source": [
    "from sklearn.ensemble import GradientBoostingClassifier\n",
    "from sklearn.metrics import classification_report, confusion_matrix"
   ]
  },
  {
   "cell_type": "raw",
   "metadata": {},
   "source": [
    "create model and test different estimator"
   ]
  },
  {
   "cell_type": "code",
   "execution_count": 31,
   "metadata": {},
   "outputs": [],
   "source": [
    "n_estimator=[100,200,300,400,500,600,800,1000]"
   ]
  },
  {
   "cell_type": "code",
   "execution_count": 32,
   "metadata": {},
   "outputs": [
    {
     "name": "stdout",
     "output_type": "stream",
     "text": [
      "n_estimator:  100\n",
      "Accuracy score (training): 1.000\n",
      "Accuracy score (validation): 0.953\n",
      "n_estimator:  200\n",
      "Accuracy score (training): 1.000\n",
      "Accuracy score (validation): 0.961\n",
      "n_estimator:  300\n",
      "Accuracy score (training): 1.000\n",
      "Accuracy score (validation): 0.961\n",
      "n_estimator:  400\n",
      "Accuracy score (training): 1.000\n",
      "Accuracy score (validation): 0.966\n",
      "n_estimator:  500\n",
      "Accuracy score (training): 1.000\n",
      "Accuracy score (validation): 0.969\n",
      "n_estimator:  600\n",
      "Accuracy score (training): 1.000\n",
      "Accuracy score (validation): 0.971\n",
      "n_estimator:  800\n",
      "Accuracy score (training): 1.000\n",
      "Accuracy score (validation): 0.984\n",
      "n_estimator:  1000\n",
      "Accuracy score (training): 1.000\n",
      "Accuracy score (validation): 0.993\n"
     ]
    }
   ],
   "source": [
    "for estimator in n_estimator:\n",
    "    gb_clf = GradientBoostingClassifier(n_estimators=estimator, learning_rate=0.01, max_features=2, max_depth=12, random_state=0)\n",
    "    gb_clf.fit(training_data['X_train'], training_data['Y_train'].reshape(training_data['Y_train'].shape[0]))\n",
    "\n",
    "    print(\"n_estimator: \", estimator)\n",
    "    print(\"Accuracy score (training): {0:.3f}\".format(gb_clf.score(X_train, Y_train)))\n",
    "    print(\"Accuracy score (validation): {0:.3f}\".format(gb_clf.score(X_val, Y_val)))"
   ]
  },
  {
   "cell_type": "code",
   "execution_count": 33,
   "metadata": {},
   "outputs": [
    {
     "name": "stderr",
     "output_type": "stream",
     "text": [
      "[Parallel(n_jobs=1)]: Using backend SequentialBackend with 1 concurrent workers.\n",
      "[Parallel(n_jobs=1)]: Done 100 out of 100 | elapsed:    0.0s finished\n"
     ]
    }
   ],
   "source": [
    "predicted_labels = clf_balanced.predict(training_data['X_test'])"
   ]
  },
  {
   "cell_type": "code",
   "execution_count": 34,
   "metadata": {},
   "outputs": [
    {
     "data": {
      "text/plain": [
       "1.0"
      ]
     },
     "execution_count": 34,
     "metadata": {},
     "output_type": "execute_result"
    }
   ],
   "source": [
    "accuracy_score(training_data['Y_test'], predicted_labels)"
   ]
  },
  {
   "cell_type": "code",
   "execution_count": 35,
   "metadata": {},
   "outputs": [
    {
     "name": "stdout",
     "output_type": "stream",
     "text": [
      "Accuracy score (training): 1.000\n",
      "Accuracy score (validation): 0.993\n"
     ]
    }
   ],
   "source": [
    "print(\"Accuracy score (training): {0:.3f}\".format(gb_clf.score(X_train, Y_train)))\n",
    "print(\"Accuracy score (validation): {0:.3f}\".format(gb_clf.score(X_val, Y_val)))\n"
   ]
  },
  {
   "cell_type": "raw",
   "metadata": {},
   "source": [
    "Put ultimate estimator"
   ]
  },
  {
   "cell_type": "code",
   "execution_count": 38,
   "metadata": {},
   "outputs": [
    {
     "name": "stderr",
     "output_type": "stream",
     "text": [
      "/Users/juseimandi/opt/anaconda3/envs/myenv/lib/python3.7/site-packages/sklearn/utils/validation.py:72: DataConversionWarning: A column-vector y was passed when a 1d array was expected. Please change the shape of y to (n_samples, ), for example using ravel().\n",
      "  return f(**kwargs)\n"
     ]
    },
    {
     "name": "stdout",
     "output_type": "stream",
     "text": [
      "Confusion Matrix:\n",
      "[[470   1]\n",
      " [  6 465]]\n",
      "Classification Report\n",
      "              precision    recall  f1-score   support\n",
      "\n",
      "           0       0.99      1.00      0.99       471\n",
      "           1       1.00      0.99      0.99       471\n",
      "\n",
      "    accuracy                           0.99       942\n",
      "   macro avg       0.99      0.99      0.99       942\n",
      "weighted avg       0.99      0.99      0.99       942\n",
      "\n"
     ]
    }
   ],
   "source": [
    "gb_clf2 = GradientBoostingClassifier(n_estimators=1000, learning_rate=0.01, max_features=2, max_depth=12, random_state=0)\n",
    "gb_clf2.fit(X_train, Y_train)\n",
    "predictions = gb_clf2.predict(X_val)\n",
    "\n",
    "print(\"Confusion Matrix:\")\n",
    "print(confusion_matrix(Y_val, predictions))\n",
    "\n",
    "print(\"Classification Report\")\n",
    "print(classification_report(Y_val, predictions))"
   ]
  },
  {
   "cell_type": "markdown",
   "metadata": {},
   "source": [
    "### Bibliographie"
   ]
  },
  {
   "cell_type": "raw",
   "metadata": {},
   "source": [
    "https://towardsdatascience.com/xgboost-for-multi-class-classification-799d96bcd368"
   ]
  },
  {
   "cell_type": "raw",
   "metadata": {},
   "source": [
    "https://stackabuse.com/gradient-boosting-classifiers-in-python-with-scikit-learn/"
   ]
  },
  {
   "cell_type": "code",
   "execution_count": null,
   "metadata": {},
   "outputs": [],
   "source": []
  }
 ],
 "metadata": {
  "kernelspec": {
   "display_name": "Python 3",
   "language": "python",
   "name": "python3"
  },
  "language_info": {
   "codemirror_mode": {
    "name": "ipython",
    "version": 3
   },
   "file_extension": ".py",
   "mimetype": "text/x-python",
   "name": "python",
   "nbconvert_exporter": "python",
   "pygments_lexer": "ipython3",
   "version": "3.7.9"
  }
 },
 "nbformat": 4,
 "nbformat_minor": 4
}
