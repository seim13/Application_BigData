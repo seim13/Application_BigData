{
 "cells": [
  {
   "cell_type": "markdown",
   "metadata": {},
   "source": [
    "# Application of BigData Part 1"
   ]
  },
  {
   "cell_type": "markdown",
   "metadata": {},
   "source": [
    "## Model building"
   ]
  },
  {
   "cell_type": "code",
   "execution_count": 20,
   "metadata": {},
   "outputs": [],
   "source": [
    "import pandas as pd\n",
    "import numpy as np\n",
    "import sklearn\n",
    "import plotly.express as px\n",
    "import plotly.graph_objects as go\n",
    "from sklearn.model_selection import train_test_split\n",
    "from sklearn.preprocessing import QuantileTransformer\n",
    "from sklearn.ensemble import RandomForestClassifier\n",
    "\n",
    "import matplotlib.pyplot as plt\n",
    "from sklearn.metrics import accuracy_score, f1_score\n",
    "from sklearn.model_selection import GridSearchCV\n",
    "from sklearn.metrics import classification_report"
   ]
  },
  {
   "cell_type": "code",
   "execution_count": 3,
   "metadata": {},
   "outputs": [],
   "source": [
    "df_train_nan=pd.read_csv('df_dummies_nan.csv')"
   ]
  },
  {
   "cell_type": "code",
   "execution_count": 5,
   "metadata": {},
   "outputs": [
    {
     "data": {
      "text/html": [
       "<div>\n",
       "<style scoped>\n",
       "    .dataframe tbody tr th:only-of-type {\n",
       "        vertical-align: middle;\n",
       "    }\n",
       "\n",
       "    .dataframe tbody tr th {\n",
       "        vertical-align: top;\n",
       "    }\n",
       "\n",
       "    .dataframe thead th {\n",
       "        text-align: right;\n",
       "    }\n",
       "</style>\n",
       "<table border=\"1\" class=\"dataframe\">\n",
       "  <thead>\n",
       "    <tr style=\"text-align: right;\">\n",
       "      <th></th>\n",
       "      <th>SK_ID_CURR</th>\n",
       "      <th>TARGET</th>\n",
       "      <th>CNT_CHILDREN</th>\n",
       "      <th>AMT_INCOME_TOTAL</th>\n",
       "      <th>AMT_CREDIT</th>\n",
       "      <th>AMT_ANNUITY</th>\n",
       "      <th>AMT_GOODS_PRICE</th>\n",
       "      <th>REGION_POPULATION_RELATIVE</th>\n",
       "      <th>DAYS_BIRTH</th>\n",
       "      <th>DAYS_EMPLOYED</th>\n",
       "      <th>...</th>\n",
       "      <th>HOUSETYPE_MODE_terraced house</th>\n",
       "      <th>WALLSMATERIAL_MODE_Block</th>\n",
       "      <th>WALLSMATERIAL_MODE_Mixed</th>\n",
       "      <th>WALLSMATERIAL_MODE_Monolithic</th>\n",
       "      <th>WALLSMATERIAL_MODE_Others</th>\n",
       "      <th>WALLSMATERIAL_MODE_Panel</th>\n",
       "      <th>WALLSMATERIAL_MODE_Stone, brick</th>\n",
       "      <th>WALLSMATERIAL_MODE_Wooden</th>\n",
       "      <th>EMERGENCYSTATE_MODE_No</th>\n",
       "      <th>EMERGENCYSTATE_MODE_Yes</th>\n",
       "    </tr>\n",
       "  </thead>\n",
       "  <tbody>\n",
       "    <tr>\n",
       "      <th>0</th>\n",
       "      <td>-5.199338</td>\n",
       "      <td>1</td>\n",
       "      <td>-5.199338</td>\n",
       "      <td>0.387078</td>\n",
       "      <td>-0.385935</td>\n",
       "      <td>-0.163824</td>\n",
       "      <td>-0.411534</td>\n",
       "      <td>-0.148584</td>\n",
       "      <td>1.656254</td>\n",
       "      <td>0.862544</td>\n",
       "      <td>...</td>\n",
       "      <td>0</td>\n",
       "      <td>0</td>\n",
       "      <td>0</td>\n",
       "      <td>0</td>\n",
       "      <td>0</td>\n",
       "      <td>0</td>\n",
       "      <td>1</td>\n",
       "      <td>0</td>\n",
       "      <td>1</td>\n",
       "      <td>0</td>\n",
       "    </tr>\n",
       "    <tr>\n",
       "      <th>1</th>\n",
       "      <td>-3.889639</td>\n",
       "      <td>0</td>\n",
       "      <td>0.724973</td>\n",
       "      <td>0.634851</td>\n",
       "      <td>0.751333</td>\n",
       "      <td>0.154718</td>\n",
       "      <td>0.584984</td>\n",
       "      <td>-0.322932</td>\n",
       "      <td>0.183741</td>\n",
       "      <td>-0.533016</td>\n",
       "      <td>...</td>\n",
       "      <td>0</td>\n",
       "      <td>0</td>\n",
       "      <td>0</td>\n",
       "      <td>0</td>\n",
       "      <td>0</td>\n",
       "      <td>1</td>\n",
       "      <td>0</td>\n",
       "      <td>0</td>\n",
       "      <td>1</td>\n",
       "      <td>0</td>\n",
       "    </tr>\n",
       "    <tr>\n",
       "      <th>2</th>\n",
       "      <td>-3.819250</td>\n",
       "      <td>0</td>\n",
       "      <td>-5.199338</td>\n",
       "      <td>-0.920412</td>\n",
       "      <td>-1.629992</td>\n",
       "      <td>-2.023292</td>\n",
       "      <td>-1.505747</td>\n",
       "      <td>1.404533</td>\n",
       "      <td>-0.659948</td>\n",
       "      <td>-1.652486</td>\n",
       "      <td>...</td>\n",
       "      <td>0</td>\n",
       "      <td>0</td>\n",
       "      <td>0</td>\n",
       "      <td>0</td>\n",
       "      <td>0</td>\n",
       "      <td>0</td>\n",
       "      <td>1</td>\n",
       "      <td>0</td>\n",
       "      <td>1</td>\n",
       "      <td>0</td>\n",
       "    </tr>\n",
       "    <tr>\n",
       "      <th>3</th>\n",
       "      <td>-3.774033</td>\n",
       "      <td>0</td>\n",
       "      <td>0.724973</td>\n",
       "      <td>1.959536</td>\n",
       "      <td>-0.151121</td>\n",
       "      <td>0.408805</td>\n",
       "      <td>-0.170185</td>\n",
       "      <td>0.138444</td>\n",
       "      <td>0.965881</td>\n",
       "      <td>-0.934131</td>\n",
       "      <td>...</td>\n",
       "      <td>0</td>\n",
       "      <td>0</td>\n",
       "      <td>0</td>\n",
       "      <td>0</td>\n",
       "      <td>0</td>\n",
       "      <td>1</td>\n",
       "      <td>0</td>\n",
       "      <td>0</td>\n",
       "      <td>1</td>\n",
       "      <td>0</td>\n",
       "    </tr>\n",
       "    <tr>\n",
       "      <th>4</th>\n",
       "      <td>-3.744563</td>\n",
       "      <td>0</td>\n",
       "      <td>1.558482</td>\n",
       "      <td>-0.479432</td>\n",
       "      <td>-1.010382</td>\n",
       "      <td>-1.209626</td>\n",
       "      <td>-0.744694</td>\n",
       "      <td>0.522099</td>\n",
       "      <td>0.917551</td>\n",
       "      <td>0.746904</td>\n",
       "      <td>...</td>\n",
       "      <td>0</td>\n",
       "      <td>0</td>\n",
       "      <td>0</td>\n",
       "      <td>0</td>\n",
       "      <td>0</td>\n",
       "      <td>1</td>\n",
       "      <td>0</td>\n",
       "      <td>0</td>\n",
       "      <td>1</td>\n",
       "      <td>0</td>\n",
       "    </tr>\n",
       "    <tr>\n",
       "      <th>...</th>\n",
       "      <td>...</td>\n",
       "      <td>...</td>\n",
       "      <td>...</td>\n",
       "      <td>...</td>\n",
       "      <td>...</td>\n",
       "      <td>...</td>\n",
       "      <td>...</td>\n",
       "      <td>...</td>\n",
       "      <td>...</td>\n",
       "      <td>...</td>\n",
       "      <td>...</td>\n",
       "      <td>...</td>\n",
       "      <td>...</td>\n",
       "      <td>...</td>\n",
       "      <td>...</td>\n",
       "      <td>...</td>\n",
       "      <td>...</td>\n",
       "      <td>...</td>\n",
       "      <td>...</td>\n",
       "      <td>...</td>\n",
       "      <td>...</td>\n",
       "    </tr>\n",
       "    <tr>\n",
       "      <th>51068</th>\n",
       "      <td>3.657373</td>\n",
       "      <td>0</td>\n",
       "      <td>0.724973</td>\n",
       "      <td>0.147316</td>\n",
       "      <td>0.586473</td>\n",
       "      <td>0.454224</td>\n",
       "      <td>0.391137</td>\n",
       "      <td>0.839121</td>\n",
       "      <td>0.330343</td>\n",
       "      <td>-1.427066</td>\n",
       "      <td>...</td>\n",
       "      <td>0</td>\n",
       "      <td>1</td>\n",
       "      <td>0</td>\n",
       "      <td>0</td>\n",
       "      <td>0</td>\n",
       "      <td>0</td>\n",
       "      <td>0</td>\n",
       "      <td>0</td>\n",
       "      <td>1</td>\n",
       "      <td>0</td>\n",
       "    </tr>\n",
       "    <tr>\n",
       "      <th>51069</th>\n",
       "      <td>3.802346</td>\n",
       "      <td>0</td>\n",
       "      <td>-5.199338</td>\n",
       "      <td>0.634851</td>\n",
       "      <td>-0.137177</td>\n",
       "      <td>0.546894</td>\n",
       "      <td>0.062770</td>\n",
       "      <td>0.839121</td>\n",
       "      <td>0.178960</td>\n",
       "      <td>1.584354</td>\n",
       "      <td>...</td>\n",
       "      <td>0</td>\n",
       "      <td>1</td>\n",
       "      <td>0</td>\n",
       "      <td>0</td>\n",
       "      <td>0</td>\n",
       "      <td>0</td>\n",
       "      <td>0</td>\n",
       "      <td>0</td>\n",
       "      <td>1</td>\n",
       "      <td>0</td>\n",
       "    </tr>\n",
       "    <tr>\n",
       "      <th>51070</th>\n",
       "      <td>3.876035</td>\n",
       "      <td>1</td>\n",
       "      <td>-5.199338</td>\n",
       "      <td>0.634851</td>\n",
       "      <td>-0.081638</td>\n",
       "      <td>-0.278302</td>\n",
       "      <td>-0.170185</td>\n",
       "      <td>-0.461215</td>\n",
       "      <td>-0.380326</td>\n",
       "      <td>1.404533</td>\n",
       "      <td>...</td>\n",
       "      <td>0</td>\n",
       "      <td>0</td>\n",
       "      <td>0</td>\n",
       "      <td>0</td>\n",
       "      <td>0</td>\n",
       "      <td>0</td>\n",
       "      <td>1</td>\n",
       "      <td>0</td>\n",
       "      <td>0</td>\n",
       "      <td>1</td>\n",
       "    </tr>\n",
       "    <tr>\n",
       "      <th>51071</th>\n",
       "      <td>3.962013</td>\n",
       "      <td>0</td>\n",
       "      <td>-5.199338</td>\n",
       "      <td>0.147316</td>\n",
       "      <td>0.526417</td>\n",
       "      <td>-0.236799</td>\n",
       "      <td>0.391137</td>\n",
       "      <td>0.434861</td>\n",
       "      <td>-1.567979</td>\n",
       "      <td>-1.589728</td>\n",
       "      <td>...</td>\n",
       "      <td>0</td>\n",
       "      <td>0</td>\n",
       "      <td>0</td>\n",
       "      <td>0</td>\n",
       "      <td>0</td>\n",
       "      <td>1</td>\n",
       "      <td>0</td>\n",
       "      <td>0</td>\n",
       "      <td>1</td>\n",
       "      <td>0</td>\n",
       "    </tr>\n",
       "    <tr>\n",
       "      <th>51072</th>\n",
       "      <td>5.199338</td>\n",
       "      <td>0</td>\n",
       "      <td>-5.199338</td>\n",
       "      <td>-0.267884</td>\n",
       "      <td>0.296607</td>\n",
       "      <td>0.224559</td>\n",
       "      <td>0.221344</td>\n",
       "      <td>-1.865852</td>\n",
       "      <td>-0.032510</td>\n",
       "      <td>-1.671761</td>\n",
       "      <td>...</td>\n",
       "      <td>0</td>\n",
       "      <td>0</td>\n",
       "      <td>0</td>\n",
       "      <td>0</td>\n",
       "      <td>0</td>\n",
       "      <td>1</td>\n",
       "      <td>0</td>\n",
       "      <td>0</td>\n",
       "      <td>1</td>\n",
       "      <td>0</td>\n",
       "    </tr>\n",
       "  </tbody>\n",
       "</table>\n",
       "<p>51073 rows × 217 columns</p>\n",
       "</div>"
      ],
      "text/plain": [
       "       SK_ID_CURR  TARGET  CNT_CHILDREN  AMT_INCOME_TOTAL  AMT_CREDIT  \\\n",
       "0       -5.199338       1     -5.199338          0.387078   -0.385935   \n",
       "1       -3.889639       0      0.724973          0.634851    0.751333   \n",
       "2       -3.819250       0     -5.199338         -0.920412   -1.629992   \n",
       "3       -3.774033       0      0.724973          1.959536   -0.151121   \n",
       "4       -3.744563       0      1.558482         -0.479432   -1.010382   \n",
       "...           ...     ...           ...               ...         ...   \n",
       "51068    3.657373       0      0.724973          0.147316    0.586473   \n",
       "51069    3.802346       0     -5.199338          0.634851   -0.137177   \n",
       "51070    3.876035       1     -5.199338          0.634851   -0.081638   \n",
       "51071    3.962013       0     -5.199338          0.147316    0.526417   \n",
       "51072    5.199338       0     -5.199338         -0.267884    0.296607   \n",
       "\n",
       "       AMT_ANNUITY  AMT_GOODS_PRICE  REGION_POPULATION_RELATIVE  DAYS_BIRTH  \\\n",
       "0        -0.163824        -0.411534                   -0.148584    1.656254   \n",
       "1         0.154718         0.584984                   -0.322932    0.183741   \n",
       "2        -2.023292        -1.505747                    1.404533   -0.659948   \n",
       "3         0.408805        -0.170185                    0.138444    0.965881   \n",
       "4        -1.209626        -0.744694                    0.522099    0.917551   \n",
       "...            ...              ...                         ...         ...   \n",
       "51068     0.454224         0.391137                    0.839121    0.330343   \n",
       "51069     0.546894         0.062770                    0.839121    0.178960   \n",
       "51070    -0.278302        -0.170185                   -0.461215   -0.380326   \n",
       "51071    -0.236799         0.391137                    0.434861   -1.567979   \n",
       "51072     0.224559         0.221344                   -1.865852   -0.032510   \n",
       "\n",
       "       DAYS_EMPLOYED  ...  HOUSETYPE_MODE_terraced house  \\\n",
       "0           0.862544  ...                              0   \n",
       "1          -0.533016  ...                              0   \n",
       "2          -1.652486  ...                              0   \n",
       "3          -0.934131  ...                              0   \n",
       "4           0.746904  ...                              0   \n",
       "...              ...  ...                            ...   \n",
       "51068      -1.427066  ...                              0   \n",
       "51069       1.584354  ...                              0   \n",
       "51070       1.404533  ...                              0   \n",
       "51071      -1.589728  ...                              0   \n",
       "51072      -1.671761  ...                              0   \n",
       "\n",
       "       WALLSMATERIAL_MODE_Block  WALLSMATERIAL_MODE_Mixed  \\\n",
       "0                             0                         0   \n",
       "1                             0                         0   \n",
       "2                             0                         0   \n",
       "3                             0                         0   \n",
       "4                             0                         0   \n",
       "...                         ...                       ...   \n",
       "51068                         1                         0   \n",
       "51069                         1                         0   \n",
       "51070                         0                         0   \n",
       "51071                         0                         0   \n",
       "51072                         0                         0   \n",
       "\n",
       "       WALLSMATERIAL_MODE_Monolithic  WALLSMATERIAL_MODE_Others  \\\n",
       "0                                  0                          0   \n",
       "1                                  0                          0   \n",
       "2                                  0                          0   \n",
       "3                                  0                          0   \n",
       "4                                  0                          0   \n",
       "...                              ...                        ...   \n",
       "51068                              0                          0   \n",
       "51069                              0                          0   \n",
       "51070                              0                          0   \n",
       "51071                              0                          0   \n",
       "51072                              0                          0   \n",
       "\n",
       "       WALLSMATERIAL_MODE_Panel  WALLSMATERIAL_MODE_Stone, brick  \\\n",
       "0                             0                                1   \n",
       "1                             1                                0   \n",
       "2                             0                                1   \n",
       "3                             1                                0   \n",
       "4                             1                                0   \n",
       "...                         ...                              ...   \n",
       "51068                         0                                0   \n",
       "51069                         0                                0   \n",
       "51070                         0                                1   \n",
       "51071                         1                                0   \n",
       "51072                         1                                0   \n",
       "\n",
       "       WALLSMATERIAL_MODE_Wooden  EMERGENCYSTATE_MODE_No  \\\n",
       "0                              0                       1   \n",
       "1                              0                       1   \n",
       "2                              0                       1   \n",
       "3                              0                       1   \n",
       "4                              0                       1   \n",
       "...                          ...                     ...   \n",
       "51068                          0                       1   \n",
       "51069                          0                       1   \n",
       "51070                          0                       0   \n",
       "51071                          0                       1   \n",
       "51072                          0                       1   \n",
       "\n",
       "       EMERGENCYSTATE_MODE_Yes  \n",
       "0                            0  \n",
       "1                            0  \n",
       "2                            0  \n",
       "3                            0  \n",
       "4                            0  \n",
       "...                        ...  \n",
       "51068                        0  \n",
       "51069                        0  \n",
       "51070                        1  \n",
       "51071                        0  \n",
       "51072                        0  \n",
       "\n",
       "[51073 rows x 217 columns]"
      ]
     },
     "execution_count": 5,
     "metadata": {},
     "output_type": "execute_result"
    }
   ],
   "source": [
    "df_train_nan.drop('Unnamed: 0', axis=1, inplace=True)\n",
    "df_train_nan"
   ]
  },
  {
   "cell_type": "code",
   "execution_count": 6,
   "metadata": {},
   "outputs": [],
   "source": [
    "column_nan=df_train_nan.columns.tolist()"
   ]
  },
  {
   "cell_type": "code",
   "execution_count": 7,
   "metadata": {},
   "outputs": [],
   "source": [
    "def stratified_split(df, target, val_percent=0.2):\n",
    "    '''\n",
    "    Function to split a dataframe into train and validation sets, while preserving the ratio of the labels in the target variable\n",
    "    Inputs:\n",
    "    - df, the dataframe\n",
    "    - target, the target variable\n",
    "    - val_percent, the percentage of validation samples, default 0.2\n",
    "    Outputs:\n",
    "    - train_idxs, the indices of the training dataset\n",
    "    - val_idxs, the indices of the validation dataset\n",
    "    '''\n",
    "    classes=list(df[target].unique())\n",
    "    train_idxs, val_idxs = [], []\n",
    "    for c in classes:\n",
    "        idx=list(df[df[target]==c].index)\n",
    "        np.random.shuffle(idx)\n",
    "        val_size=int(len(idx)*val_percent)\n",
    "        val_idxs+=idx[:val_size]\n",
    "        train_idxs+=idx[val_size:]\n",
    "    return train_idxs, val_idxs\n",
    "\n",
    "\n",
    "train_idxs, val_idxs = stratified_split(df_train_nan, 'TARGET', val_percent=0.25)\n",
    "\n",
    "val_idxs, test_idxs = stratified_split(df_train_nan[df_train_nan.index.isin(val_idxs)], 'TARGET', val_percent=0.5)"
   ]
  },
  {
   "cell_type": "code",
   "execution_count": 9,
   "metadata": {},
   "outputs": [
    {
     "name": "stdout",
     "output_type": "stream",
     "text": [
      "Retrieved Training Data\n",
      "Retrieved Validation Data\n",
      "Retrieved Test Data\n"
     ]
    }
   ],
   "source": [
    "train_df = df_train_nan[df_train_nan.index.isin(train_idxs)]\n",
    "\n",
    "X_train = train_df[column_nan].values\n",
    "Y_train = train_df[['TARGET']].values\n",
    "print('Retrieved Training Data')\n",
    "\n",
    "val_df = df_train_nan[df_train_nan.index.isin(val_idxs)]\n",
    "X_val = val_df[column_nan].values\n",
    "Y_val = val_df[['TARGET']].values\n",
    "print('Retrieved Validation Data')\n",
    "\n",
    "test_df = df_train_nan[df_train_nan.index.isin(test_idxs)]\n",
    "X_test = test_df[column_nan].values\n",
    "Y_test = test_df[['TARGET']].values\n",
    "print('Retrieved Test Data')"
   ]
  },
  {
   "cell_type": "code",
   "execution_count": 11,
   "metadata": {},
   "outputs": [],
   "source": [
    "#store data, all in numpy arrays\n",
    "training_data = {'X_train':X_train,'Y_train':Y_train,\n",
    "                'X_val': X_val,'Y_val':Y_val,\n",
    "                'X_test': X_test,'Y_test':Y_test}"
   ]
  },
  {
   "cell_type": "code",
   "execution_count": 12,
   "metadata": {},
   "outputs": [
    {
     "name": "stderr",
     "output_type": "stream",
     "text": [
      "[Parallel(n_jobs=1)]: Using backend SequentialBackend with 1 concurrent workers.\n",
      "[Parallel(n_jobs=1)]: Done 100 out of 100 | elapsed:    7.8s finished\n"
     ]
    },
    {
     "data": {
      "text/plain": [
       "RandomForestClassifier(random_state=27, verbose=1)"
      ]
     },
     "execution_count": 12,
     "metadata": {},
     "output_type": "execute_result"
    }
   ],
   "source": [
    "clf = RandomForestClassifier(n_jobs=None,random_state=27,\n",
    "                       verbose=1)\n",
    "clf.fit(training_data['X_train'], training_data['Y_train'].reshape(training_data['Y_train'].shape[0],))"
   ]
  },
  {
   "cell_type": "code",
   "execution_count": 13,
   "metadata": {},
   "outputs": [
    {
     "name": "stderr",
     "output_type": "stream",
     "text": [
      "[Parallel(n_jobs=1)]: Using backend SequentialBackend with 1 concurrent workers.\n",
      "[Parallel(n_jobs=1)]: Done 100 out of 100 | elapsed:    0.1s finished\n"
     ]
    }
   ],
   "source": [
    "predicted_labels = clf.predict(training_data['X_test'])"
   ]
  },
  {
   "cell_type": "code",
   "execution_count": 14,
   "metadata": {},
   "outputs": [
    {
     "data": {
      "text/plain": [
       "1.0"
      ]
     },
     "execution_count": 14,
     "metadata": {},
     "output_type": "execute_result"
    }
   ],
   "source": [
    "accuracy_score(training_data['Y_test'], predicted_labels)"
   ]
  },
  {
   "cell_type": "code",
   "execution_count": 15,
   "metadata": {},
   "outputs": [
    {
     "name": "stdout",
     "output_type": "stream",
     "text": [
      "Fitting 5 folds for each of 40 candidates, totalling 200 fits\n"
     ]
    },
    {
     "name": "stderr",
     "output_type": "stream",
     "text": [
      "[Parallel(n_jobs=-1)]: Using backend LokyBackend with 4 concurrent workers.\n",
      "[Parallel(n_jobs=-1)]: Done   5 tasks      | elapsed:   27.6s\n",
      "[Parallel(n_jobs=-1)]: Done  10 tasks      | elapsed:   52.0s\n",
      "[Parallel(n_jobs=-1)]: Done  17 tasks      | elapsed:  1.7min\n",
      "[Parallel(n_jobs=-1)]: Done  24 tasks      | elapsed:  2.8min\n",
      "[Parallel(n_jobs=-1)]: Done  33 tasks      | elapsed:  5.4min\n",
      "[Parallel(n_jobs=-1)]: Done  42 tasks      | elapsed:  7.1min\n",
      "[Parallel(n_jobs=-1)]: Done  53 tasks      | elapsed:  8.2min\n",
      "[Parallel(n_jobs=-1)]: Done  64 tasks      | elapsed: 10.4min\n",
      "[Parallel(n_jobs=-1)]: Done  77 tasks      | elapsed: 14.5min\n",
      "[Parallel(n_jobs=-1)]: Done  90 tasks      | elapsed: 16.5min\n",
      "[Parallel(n_jobs=-1)]: Done 105 tasks      | elapsed: 19.7min\n",
      "[Parallel(n_jobs=-1)]: Done 120 tasks      | elapsed: 23.3min\n",
      "[Parallel(n_jobs=-1)]: Done 137 tasks      | elapsed: 25.2min\n",
      "[Parallel(n_jobs=-1)]: Done 154 tasks      | elapsed: 28.6min\n",
      "[Parallel(n_jobs=-1)]: Done 173 tasks      | elapsed: 31.2min\n",
      "[Parallel(n_jobs=-1)]: Done 192 tasks      | elapsed: 34.9min\n",
      "[Parallel(n_jobs=-1)]: Done 200 out of 200 | elapsed: 36.8min finished\n",
      "[Parallel(n_jobs=1)]: Using backend SequentialBackend with 1 concurrent workers.\n",
      "[Parallel(n_jobs=1)]: Done 400 out of 400 | elapsed:   24.0s finished\n"
     ]
    },
    {
     "data": {
      "text/plain": [
       "GridSearchCV(cv=5, estimator=RandomForestClassifier(random_state=27, verbose=1),\n",
       "             n_jobs=-1,\n",
       "             param_grid={'criterion': ['gini'], 'max_depth': [8, 9, 10, 11, 12],\n",
       "                         'max_features': ['auto'],\n",
       "                         'n_estimators': range(100, 500, 50)},\n",
       "             scoring='f1_micro', verbose=10)"
      ]
     },
     "execution_count": 15,
     "metadata": {},
     "output_type": "execute_result"
    }
   ],
   "source": [
    "params = {\n",
    "    'n_estimators'      : range(100,500,50),\n",
    "    'max_depth'         : [8, 9, 10, 11, 12],\n",
    "    'max_features': ['auto'],\n",
    "    'criterion' :['gini']\n",
    "}\n",
    "#metrics to consider: f1_micro, f1_macro, roc_auc_ovr\n",
    "gsearch1 = GridSearchCV(estimator = clf, param_grid = params, scoring='f1_micro',n_jobs=-1,verbose = 10, cv=5)\n",
    "gsearch1.fit(training_data['X_train'], training_data['Y_train'].reshape(training_data['Y_train'].shape[0],))\n"
   ]
  },
  {
   "cell_type": "code",
   "execution_count": 25,
   "metadata": {},
   "outputs": [
    {
     "name": "stdout",
     "output_type": "stream",
     "text": [
      "Best parameters set found on development set:\n",
      "\n",
      "{'criterion': 'gini', 'max_depth': 12, 'max_features': 'auto', 'n_estimators': 400}\n",
      "\n",
      "Grid scores on development set:\n",
      "\n",
      "0.947 (+/-0.027) for {'criterion': 'gini', 'max_depth': 8, 'max_features': 'auto', 'n_estimators': 100}\n",
      "0.945 (+/-0.021) for {'criterion': 'gini', 'max_depth': 8, 'max_features': 'auto', 'n_estimators': 150}\n",
      "0.942 (+/-0.019) for {'criterion': 'gini', 'max_depth': 8, 'max_features': 'auto', 'n_estimators': 200}\n",
      "0.942 (+/-0.018) for {'criterion': 'gini', 'max_depth': 8, 'max_features': 'auto', 'n_estimators': 250}\n",
      "0.942 (+/-0.019) for {'criterion': 'gini', 'max_depth': 8, 'max_features': 'auto', 'n_estimators': 300}\n",
      "0.939 (+/-0.015) for {'criterion': 'gini', 'max_depth': 8, 'max_features': 'auto', 'n_estimators': 350}\n",
      "0.937 (+/-0.012) for {'criterion': 'gini', 'max_depth': 8, 'max_features': 'auto', 'n_estimators': 400}\n",
      "0.935 (+/-0.010) for {'criterion': 'gini', 'max_depth': 8, 'max_features': 'auto', 'n_estimators': 450}\n",
      "0.970 (+/-0.029) for {'criterion': 'gini', 'max_depth': 9, 'max_features': 'auto', 'n_estimators': 100}\n",
      "0.971 (+/-0.029) for {'criterion': 'gini', 'max_depth': 9, 'max_features': 'auto', 'n_estimators': 150}\n",
      "0.969 (+/-0.033) for {'criterion': 'gini', 'max_depth': 9, 'max_features': 'auto', 'n_estimators': 200}\n",
      "0.970 (+/-0.030) for {'criterion': 'gini', 'max_depth': 9, 'max_features': 'auto', 'n_estimators': 250}\n",
      "0.972 (+/-0.027) for {'criterion': 'gini', 'max_depth': 9, 'max_features': 'auto', 'n_estimators': 300}\n",
      "0.969 (+/-0.030) for {'criterion': 'gini', 'max_depth': 9, 'max_features': 'auto', 'n_estimators': 350}\n",
      "0.968 (+/-0.027) for {'criterion': 'gini', 'max_depth': 9, 'max_features': 'auto', 'n_estimators': 400}\n",
      "0.966 (+/-0.025) for {'criterion': 'gini', 'max_depth': 9, 'max_features': 'auto', 'n_estimators': 450}\n",
      "0.989 (+/-0.014) for {'criterion': 'gini', 'max_depth': 10, 'max_features': 'auto', 'n_estimators': 100}\n",
      "0.988 (+/-0.018) for {'criterion': 'gini', 'max_depth': 10, 'max_features': 'auto', 'n_estimators': 150}\n",
      "0.988 (+/-0.019) for {'criterion': 'gini', 'max_depth': 10, 'max_features': 'auto', 'n_estimators': 200}\n",
      "0.991 (+/-0.012) for {'criterion': 'gini', 'max_depth': 10, 'max_features': 'auto', 'n_estimators': 250}\n",
      "0.991 (+/-0.012) for {'criterion': 'gini', 'max_depth': 10, 'max_features': 'auto', 'n_estimators': 300}\n",
      "0.990 (+/-0.014) for {'criterion': 'gini', 'max_depth': 10, 'max_features': 'auto', 'n_estimators': 350}\n",
      "0.989 (+/-0.020) for {'criterion': 'gini', 'max_depth': 10, 'max_features': 'auto', 'n_estimators': 400}\n",
      "0.988 (+/-0.019) for {'criterion': 'gini', 'max_depth': 10, 'max_features': 'auto', 'n_estimators': 450}\n",
      "0.996 (+/-0.007) for {'criterion': 'gini', 'max_depth': 11, 'max_features': 'auto', 'n_estimators': 100}\n",
      "0.997 (+/-0.004) for {'criterion': 'gini', 'max_depth': 11, 'max_features': 'auto', 'n_estimators': 150}\n",
      "0.998 (+/-0.002) for {'criterion': 'gini', 'max_depth': 11, 'max_features': 'auto', 'n_estimators': 200}\n",
      "0.998 (+/-0.003) for {'criterion': 'gini', 'max_depth': 11, 'max_features': 'auto', 'n_estimators': 250}\n",
      "0.998 (+/-0.002) for {'criterion': 'gini', 'max_depth': 11, 'max_features': 'auto', 'n_estimators': 300}\n",
      "0.999 (+/-0.003) for {'criterion': 'gini', 'max_depth': 11, 'max_features': 'auto', 'n_estimators': 350}\n",
      "0.998 (+/-0.002) for {'criterion': 'gini', 'max_depth': 11, 'max_features': 'auto', 'n_estimators': 400}\n",
      "0.999 (+/-0.002) for {'criterion': 'gini', 'max_depth': 11, 'max_features': 'auto', 'n_estimators': 450}\n",
      "0.996 (+/-0.008) for {'criterion': 'gini', 'max_depth': 12, 'max_features': 'auto', 'n_estimators': 100}\n",
      "0.998 (+/-0.004) for {'criterion': 'gini', 'max_depth': 12, 'max_features': 'auto', 'n_estimators': 150}\n",
      "0.998 (+/-0.004) for {'criterion': 'gini', 'max_depth': 12, 'max_features': 'auto', 'n_estimators': 200}\n",
      "0.999 (+/-0.002) for {'criterion': 'gini', 'max_depth': 12, 'max_features': 'auto', 'n_estimators': 250}\n",
      "1.000 (+/-0.001) for {'criterion': 'gini', 'max_depth': 12, 'max_features': 'auto', 'n_estimators': 300}\n",
      "1.000 (+/-0.001) for {'criterion': 'gini', 'max_depth': 12, 'max_features': 'auto', 'n_estimators': 350}\n",
      "1.000 (+/-0.001) for {'criterion': 'gini', 'max_depth': 12, 'max_features': 'auto', 'n_estimators': 400}\n",
      "1.000 (+/-0.001) for {'criterion': 'gini', 'max_depth': 12, 'max_features': 'auto', 'n_estimators': 450}\n",
      "\n",
      "Detailed classification report:\n",
      "\n",
      "The model is trained on the full development set.\n",
      "The scores are computed on the full evaluation set.\n",
      "\n"
     ]
    },
    {
     "name": "stderr",
     "output_type": "stream",
     "text": [
      "[Parallel(n_jobs=1)]: Using backend SequentialBackend with 1 concurrent workers.\n"
     ]
    },
    {
     "name": "stdout",
     "output_type": "stream",
     "text": [
      "              precision    recall  f1-score   support\n",
      "\n",
      "           0       1.00      1.00      1.00      5913\n",
      "           1       1.00      1.00      1.00       470\n",
      "\n",
      "    accuracy                           1.00      6383\n",
      "   macro avg       1.00      1.00      1.00      6383\n",
      "weighted avg       1.00      1.00      1.00      6383\n",
      "\n",
      "\n"
     ]
    },
    {
     "name": "stderr",
     "output_type": "stream",
     "text": [
      "[Parallel(n_jobs=1)]: Done 400 out of 400 | elapsed:    1.1s finished\n"
     ]
    }
   ],
   "source": [
    "print(\"Best parameters set found on development set:\")\n",
    "print()\n",
    "print(gsearch1.best_params_)\n",
    "print()\n",
    "print(\"Grid scores on development set:\")\n",
    "print()\n",
    "means = gsearch1.cv_results_['mean_test_score']\n",
    "stds = gsearch1.cv_results_['std_test_score']\n",
    "for mean, std, params in zip(means, stds, gsearch1.cv_results_['params']):\n",
    "    print(\"%0.3f (+/-%0.03f) for %r\"\n",
    "          % (mean, std * 2, params))\n",
    "print()\n",
    "\n",
    "print(\"Detailed classification report:\")\n",
    "print()\n",
    "print(\"The model is trained on the full development set.\")\n",
    "print(\"The scores are computed on the full evaluation set.\")\n",
    "print()\n",
    "y_true, y_pred = Y_test, gsearch1.predict(X_test)\n",
    "print(classification_report(y_true, y_pred))\n",
    "print()"
   ]
  },
  {
   "cell_type": "raw",
   "metadata": {},
   "source": [
    "We can see that we obtain directly 1.00 f1 score starting at n_estimator=300"
   ]
  },
  {
   "cell_type": "markdown",
   "metadata": {},
   "source": [
    "## XBoost"
   ]
  },
  {
   "cell_type": "raw",
   "metadata": {},
   "source": [
    "pip install xgboost"
   ]
  },
  {
   "cell_type": "raw",
   "metadata": {},
   "source": [
    "!brew install libomp"
   ]
  },
  {
   "cell_type": "code",
   "execution_count": 38,
   "metadata": {},
   "outputs": [],
   "source": [
    "import xgboost as xgb\n",
    "import matplotlib.pyplot as plt\n",
    "from xgboost.sklearn import XGBClassifier\n",
    "import seaborn as sns"
   ]
  },
  {
   "cell_type": "code",
   "execution_count": 45,
   "metadata": {},
   "outputs": [],
   "source": [
    "#allow logloss and classification error plots for each iteraetion of xgb model\n",
    "def plot_compare(metrics,eval_results,epochs):\n",
    "    for m in metrics:\n",
    "        test_score = eval_results['val'][m]\n",
    "        train_score = eval_results['train'][m]\n",
    "        rang = range(0, epochs)\n",
    "        plt.rcParams[\"figure.figsize\"] = [6,6]\n",
    "        plt.plot(rang, test_score,\"c\", label=\"Val\")\n",
    "        plt.plot(rang, train_score,\"orange\", label=\"Train\")\n",
    "        title_name = m + \" plot\"\n",
    "        plt.title(title_name)\n",
    "        plt.xlabel('Iterations')\n",
    "        plt.ylabel(m)\n",
    "        lgd = plt.legend()\n",
    "        plt.show()\n",
    "        \n",
    "def fitXgb(sk_model, training_data=training_data,epochs=300):\n",
    "    print('Fitting model...')\n",
    "    sk_model.fit(training_data['X_train'], training_data['Y_train'].reshape(training_data['Y_train'].shape[0],))\n",
    "    print('Fitting done!')\n",
    "    train = xgb.DMatrix(training_data['X_train'], label=training_data['Y_train'])\n",
    "    val = xgb.DMatrix(training_data['X_val'], label=training_data['Y_val'])\n",
    "    params = sk_model.get_xgb_params()\n",
    "    metrics = ['mlogloss','merror']\n",
    "    params['eval_metric'] = metrics\n",
    "    store = {}\n",
    "    evallist = [(val, 'val'),(train,'train')]\n",
    "    xgb_model = xgb.train(params, train, epochs, evallist,evals_result=store,verbose_eval=100)\n",
    "    print('-- Model Report --')\n",
    "    print('XGBoost Accuracy: '+str(accuracy_score(sk_model.predict(training_data['X_test']), training_data['Y_test'])))\n",
    "    print('XGBoost F1-Score (Micro): '+str(f1_score(sk_model.predict(training_data['X_test']),training_data['Y_test'],average='micro')))\n",
    "    plot_compare(metrics,store,epochs)\n",
    "    features = [column_nan]\n",
    "    f, ax = plt.subplots(figsize=(10,5))\n",
    "    plt.show()"
   ]
  },
  {
   "cell_type": "code",
   "execution_count": 41,
   "metadata": {},
   "outputs": [],
   "source": [
    "#initial model\n",
    "xgb1 = XGBClassifier(learning_rate=0.1,\n",
    "                    n_estimators=500,\n",
    "                    max_depth=5,\n",
    "                    min_child_weight=1,\n",
    "                    gamma=0,\n",
    "                    subsample=0.8,\n",
    "                    colsample_bytree=0.8,\n",
    "                    objective='multi:softmax',\n",
    "                    nthread=4,\n",
    "                    num_class=9,\n",
    "                    seed=27)"
   ]
  },
  {
   "cell_type": "code",
   "execution_count": 46,
   "metadata": {},
   "outputs": [
    {
     "name": "stdout",
     "output_type": "stream",
     "text": [
      "Fitting model...\n",
      "Fitting done!\n",
      "[0]\tval-mlogloss:1.79370\tval-merror:0.00000\ttrain-mlogloss:1.79347\ttrain-merror:0.00000\n",
      "[100]\tval-mlogloss:0.00015\tval-merror:0.00000\ttrain-mlogloss:0.00015\ttrain-merror:0.00000\n",
      "[200]\tval-mlogloss:0.00004\tval-merror:0.00000\ttrain-mlogloss:0.00004\ttrain-merror:0.00000\n",
      "[299]\tval-mlogloss:0.00003\tval-merror:0.00000\ttrain-mlogloss:0.00003\ttrain-merror:0.00000\n",
      "-- Model Report --\n",
      "XGBoost Accuracy: 1.0\n",
      "XGBoost F1-Score (Micro): 1.0\n"
     ]
    },
    {
     "data": {
      "image/png": "[encoded data removed]",
      "text/plain": [
       "<Figure size 432x432 with 1 Axes>"
      ]
     },
     "metadata": {
      "needs_background": "light"
     },
     "output_type": "display_data"
    },
    {
     "data": {
      "image/png": "[encoded data removed]",
      "text/plain": [
       "<Figure size 432x432 with 1 Axes>"
      ]
     },
     "metadata": {
      "needs_background": "light"
     },
     "output_type": "display_data"
    },
    {
     "data": {
      "image/png": "[encoded data removed]",
      "text/plain": [
       "<Figure size 720x360 with 1 Axes>"
      ]
     },
     "metadata": {
      "needs_background": "light"
     },
     "output_type": "display_data"
    }
   ],
   "source": [
    "fitXgb(xgb1, training_data)"
   ]
  },
  {
   "cell_type": "code",
   "execution_count": 47,
   "metadata": {},
   "outputs": [],
   "source": [
    "def getTrainScores(gs):\n",
    "    results = {}\n",
    "    runs = 0\n",
    "    for x,y in zip(list(gs.cv_results_['mean_test_score']), gs.cv_results_['params']):\n",
    "        results[runs] = 'mean:' + str(x) + 'params' + str(y)\n",
    "        runs += 1\n",
    "    best = {'best_mean': gs.best_score_, \"best_param\":gs.best_params_}\n",
    "    return results, best"
   ]
  },
  {
   "cell_type": "code",
   "execution_count": 52,
   "metadata": {},
   "outputs": [
    {
     "name": "stdout",
     "output_type": "stream",
     "text": [
      "Fitting 5 folds for each of 12 candidates, totalling 60 fits\n"
     ]
    },
    {
     "name": "stderr",
     "output_type": "stream",
     "text": [
      "[Parallel(n_jobs=-1)]: Using backend LokyBackend with 4 concurrent workers.\n",
      "[Parallel(n_jobs=-1)]: Done   5 tasks      | elapsed: 20.4min\n",
      "[Parallel(n_jobs=-1)]: Done  10 tasks      | elapsed: 31.9min\n",
      "[Parallel(n_jobs=-1)]: Done  17 tasks      | elapsed: 53.8min\n",
      "[Parallel(n_jobs=-1)]: Done  24 tasks      | elapsed: 64.6min\n",
      "[Parallel(n_jobs=-1)]: Done  33 tasks      | elapsed: 96.0min\n",
      "[Parallel(n_jobs=-1)]: Done  42 tasks      | elapsed: 116.5min\n",
      "[Parallel(n_jobs=-1)]: Done  53 tasks      | elapsed: 147.1min\n",
      "[Parallel(n_jobs=-1)]: Done  60 out of  60 | elapsed: 156.9min remaining:    0.0s\n",
      "[Parallel(n_jobs=-1)]: Done  60 out of  60 | elapsed: 156.9min finished\n",
      "//anaconda3/lib/python3.7/site-packages/sklearn/utils/validation.py:73: DataConversionWarning:\n",
      "\n",
      "A column-vector y was passed when a 1d array was expected. Please change the shape of y to (n_samples, ), for example using ravel().\n",
      "\n"
     ]
    },
    {
     "data": {
      "text/plain": [
       "GridSearchCV(cv=5,\n",
       "             estimator=XGBClassifier(base_score=0.5, booster='gbtree',\n",
       "                                     colsample_bylevel=1, colsample_bynode=1,\n",
       "                                     colsample_bytree=0.8, gamma=0, gpu_id=-1,\n",
       "                                     importance_type='gain',\n",
       "                                     interaction_constraints='',\n",
       "                                     learning_rate=0.1, max_delta_step=0,\n",
       "                                     max_depth=5, min_child_weight=1,\n",
       "                                     missing=nan, monotone_constraints='()',\n",
       "                                     n_estimators=500, n_jobs=4, nthread=4,\n",
       "                                     num_class=9, num_parallel_tree=1,\n",
       "                                     objective='multi:softmax', random_state=27,\n",
       "                                     reg_alpha=0, reg_lambda=1,\n",
       "                                     scale_pos_weight=None, seed=27,\n",
       "                                     subsample=0.8, tree_method='exact',\n",
       "                                     validate_parameters=1, verbosity=None),\n",
       "             n_jobs=-1,\n",
       "             param_grid={'max_depth': range(3, 10, 2),\n",
       "                         'min_child_weight': range(1, 6, 2)},\n",
       "             scoring='f1_micro', verbose=10)"
      ]
     },
     "execution_count": 52,
     "metadata": {},
     "output_type": "execute_result"
    }
   ],
   "source": [
    "param_test1 = {\n",
    " 'max_depth':range(3,10,2),\n",
    " 'min_child_weight':range(1,6,2)\n",
    "}\n",
    "#metrics to consider: f1_micro, f1_macro, roc_auc_ovr\n",
    "gsearch1 = GridSearchCV(estimator = xgb1, param_grid = param_test1, scoring='f1_micro',n_jobs=-1,verbose = 10, cv=5)\n",
    "gsearch1.fit(X_train, Y_train)"
   ]
  },
  {
   "cell_type": "code",
   "execution_count": 57,
   "metadata": {},
   "outputs": [
    {
     "name": "stdout",
     "output_type": "stream",
     "text": [
      "Best parameters set found on development set:\n",
      "\n",
      "{'max_depth': 3, 'min_child_weight': 1}\n",
      "\n",
      "Grid scores on development set:\n",
      "\n",
      "1.000 (+/-0.000) for {'max_depth': 3, 'min_child_weight': 1}\n",
      "1.000 (+/-0.000) for {'max_depth': 3, 'min_child_weight': 3}\n",
      "1.000 (+/-0.000) for {'max_depth': 3, 'min_child_weight': 5}\n",
      "1.000 (+/-0.000) for {'max_depth': 5, 'min_child_weight': 1}\n",
      "1.000 (+/-0.000) for {'max_depth': 5, 'min_child_weight': 3}\n",
      "1.000 (+/-0.000) for {'max_depth': 5, 'min_child_weight': 5}\n",
      "1.000 (+/-0.000) for {'max_depth': 7, 'min_child_weight': 1}\n",
      "1.000 (+/-0.000) for {'max_depth': 7, 'min_child_weight': 3}\n",
      "1.000 (+/-0.000) for {'max_depth': 7, 'min_child_weight': 5}\n",
      "1.000 (+/-0.000) for {'max_depth': 9, 'min_child_weight': 1}\n",
      "1.000 (+/-0.000) for {'max_depth': 9, 'min_child_weight': 3}\n",
      "1.000 (+/-0.000) for {'max_depth': 9, 'min_child_weight': 5}\n",
      "\n",
      "Detailed classification report:\n",
      "\n",
      "The model is trained on the full development set.\n",
      "The scores are computed on the full evaluation set.\n",
      "\n",
      "              precision    recall  f1-score   support\n",
      "\n",
      "           0       1.00      1.00      1.00      5913\n",
      "           1       1.00      1.00      1.00       470\n",
      "\n",
      "    accuracy                           1.00      6383\n",
      "   macro avg       1.00      1.00      1.00      6383\n",
      "weighted avg       1.00      1.00      1.00      6383\n",
      "\n",
      "\n"
     ]
    }
   ],
   "source": [
    "print(\"Best parameters set found on development set:\")\n",
    "print()\n",
    "print(gsearch1.best_params_)\n",
    "print()\n",
    "print(\"Grid scores on development set:\")\n",
    "print()\n",
    "means = gsearch1.cv_results_['mean_test_score']\n",
    "stds = gsearch1.cv_results_['std_test_score']\n",
    "for mean, std, params in zip(means, stds, gsearch1.cv_results_['params']):\n",
    "    print(\"%0.3f (+/-%0.03f) for %r\"\n",
    "          % (mean, std * 2, params))\n",
    "print()\n",
    "\n",
    "print(\"Detailed classification report:\")\n",
    "print()\n",
    "print(\"The model is trained on the full development set.\")\n",
    "print(\"The scores are computed on the full evaluation set.\")\n",
    "print()\n",
    "y_true, y_pred = Y_test, gsearch1.predict(X_test)\n",
    "print(classification_report(y_true, y_pred))\n",
    "print()"
   ]
  },
  {
   "cell_type": "code",
   "execution_count": null,
   "metadata": {},
   "outputs": [],
   "source": []
  },
  {
   "cell_type": "code",
   "execution_count": 56,
   "metadata": {},
   "outputs": [
    {
     "name": "stdout",
     "output_type": "stream",
     "text": [
      "Fitting model...\n",
      "Fitting done!\n",
      "[0]\tval-mlogloss:1.79381\tval-merror:0.00000\ttrain-mlogloss:1.79390\ttrain-merror:0.00000\n",
      "[100]\tval-mlogloss:0.00015\tval-merror:0.00000\ttrain-mlogloss:0.00015\ttrain-merror:0.00000\n",
      "[200]\tval-mlogloss:0.00004\tval-merror:0.00000\ttrain-mlogloss:0.00004\ttrain-merror:0.00000\n",
      "[299]\tval-mlogloss:0.00003\tval-merror:0.00000\ttrain-mlogloss:0.00003\ttrain-merror:0.00000\n",
      "-- Model Report --\n",
      "XGBoost Accuracy: 1.0\n",
      "XGBoost F1-Score (Micro): 1.0\n"
     ]
    },
    {
     "data": {
      "image/png": "[encoded data removed]",
      "text/plain": [
       "<Figure size 432x432 with 1 Axes>"
      ]
     },
     "metadata": {
      "needs_background": "light"
     },
     "output_type": "display_data"
    },
    {
     "data": {
      "image/png": "[encoded data removed]",
      "text/plain": [
       "<Figure size 432x432 with 1 Axes>"
      ]
     },
     "metadata": {
      "needs_background": "light"
     },
     "output_type": "display_data"
    },
    {
     "data": {
      "image/png": "[encoded data removed]",
      "text/plain": [
       "<Figure size 720x360 with 1 Axes>"
      ]
     },
     "metadata": {
      "needs_background": "light"
     },
     "output_type": "display_data"
    }
   ],
   "source": [
    "xgb2 = XGBClassifier(learning_rate=0.1,\n",
    "                    n_estimators=500,\n",
    "                    max_depth=3,\n",
    "                    min_child_weight=1,\n",
    "                    gamma=0,\n",
    "                    subsample=0.8,\n",
    "                    colsample_bytree=0.8,\n",
    "                    objective='multi:softmax',\n",
    "                    nthread=4,\n",
    "                    num_class=9,\n",
    "                    seed=27)\n",
    "\n",
    "fitXgb(xgb2, training_data)"
   ]
  },
  {
   "cell_type": "code",
   "execution_count": null,
   "metadata": {},
   "outputs": [],
   "source": []
  }
 ],
 "metadata": {
  "kernelspec": {
   "display_name": "Python 3",
   "language": "python",
   "name": "python3"
  },
  "language_info": {
   "codemirror_mode": {
    "name": "ipython",
    "version": 3
   },
   "file_extension": ".py",
   "mimetype": "text/x-python",
   "name": "python",
   "nbconvert_exporter": "python",
   "pygments_lexer": "ipython3",
   "version": "3.7.0"
  }
 },
 "nbformat": 4,
 "nbformat_minor": 4
}
